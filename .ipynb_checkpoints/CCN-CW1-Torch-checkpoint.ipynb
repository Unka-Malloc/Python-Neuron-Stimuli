{
 "cells": [
  {
   "cell_type": "code",
   "execution_count": 1,
   "id": "0b8da947",
   "metadata": {},
   "outputs": [
    {
     "data": {
      "text/plain": [
       "device(type='cuda', index=0)"
      ]
     },
     "execution_count": 1,
     "metadata": {},
     "output_type": "execute_result"
    }
   ],
   "source": [
    "import torch\n",
    "import numpy as np\n",
    "import time\n",
    "\n",
    "device = torch.device(\"cuda:0\" if torch.cuda.is_available() else \"cpu\")\n",
    "device"
   ]
  },
  {
   "cell_type": "code",
   "execution_count": 2,
   "id": "cb652154",
   "metadata": {},
   "outputs": [],
   "source": [
    "M_t = 40\n",
    "N_t = 20"
   ]
  },
  {
   "cell_type": "code",
   "execution_count": 3,
   "id": "e5249b40",
   "metadata": {},
   "outputs": [],
   "source": [
    "M_a = 20\n",
    "N_a = 3"
   ]
  },
  {
   "cell_type": "code",
   "execution_count": 4,
   "id": "a25a00e3",
   "metadata": {},
   "outputs": [],
   "source": [
    "def x_t(i):\n",
    "    return i * 0.5\n",
    "\n",
    "def y_t(j):\n",
    "    return j * 0.5\n",
    "\n",
    "def x_a(i):\n",
    "    return i * 10 - 5\n",
    "\n",
    "def y_a(j):\n",
    "    return j * 10 - 15"
   ]
  },
  {
   "cell_type": "code",
   "execution_count": 48,
   "id": "f318f712",
   "metadata": {},
   "outputs": [],
   "source": [
    "def I_s(x, y, x_o, y_o, I_0, sigma_I):\n",
    "    return I_0 * np.exp( - ((x - x_o)**2 + (y - y_o)**2) / (2 * (sigma_I**2)))\n",
    "\n",
    "def I_t(x, y, x_o=10, y_o=5, I_0=2.5, sigma_I=0.3):\n",
    "    return I_s(x, y, x_o, y_o, I_0, sigma_I)\n",
    "\n",
    "def I_a(x, y, x_o=100, y_o=15, I_0=3.6, sigma_I=0.3):\n",
    "    return I_s(x, y, x_o, y_o, I_0, sigma_I)"
   ]
  },
  {
   "cell_type": "code",
   "execution_count": 49,
   "id": "c4deda80",
   "metadata": {},
   "outputs": [],
   "source": [
    "def phi_s(x, y, x_i, y_j, phi_0, sigma_phi):\n",
    "    return phi_0 * np.exp( - ((x - x_i)**2 + (y - y_j)**2) / (2 * (sigma_phi**2)))\n",
    "\n",
    "def phi_t(x, y, x_i, y_j, phi_0=1, sigma_phi=1):\n",
    "    return phi_s(x, y, x_i, y_j, phi_0, sigma_phi)\n",
    "\n",
    "def phi_a(x, y, x_i, y_j, phi_0=1, sigma_phi=10):\n",
    "    return phi_s(x, y, x_i, y_j, phi_0, sigma_phi)"
   ]
  },
  {
   "cell_type": "code",
   "execution_count": 5,
   "id": "5476b396",
   "metadata": {},
   "outputs": [],
   "source": [
    "def L_s(D_x, D_y, L_ex, sigma_ex, L_in, sigma_in):\n",
    "    ve = L_ex * np.exp( - (D_x**2 + D_y**2) / (2 * (sigma_ex**2)))\n",
    "    vi = L_in * np.exp( - (D_x**2 + D_y**2) / (2 * (sigma_in**2)))\n",
    "    \n",
    "    return ve - vi\n",
    "\n",
    "def L_t(i, j, h, k, L_ex_t=0.15, sigma_ex_t=1, L_in_t=0.05, sigma_in_t=1):\n",
    "    L_ex_t = 0.15\n",
    "    sigma_ex_t = 1\n",
    "    \n",
    "    L_in_t = 0.05\n",
    "    sigma_in_t = 1\n",
    "    \n",
    "    D_x = x_t(h + 1) - x_t(i + 1)\n",
    "    D_y = y_t(k + 1) - y_t(j + 1)\n",
    "    \n",
    "    return L_s(D_x, D_y, L_ex_t, sigma_ex_t, L_in_t, sigma_in_t)\n",
    "\n",
    "def L_a(D_x, D_y, L_ex_a=0.15, sigma_ex_a=20, L_in_a=0.05, sigma_in_a=80):\n",
    "    L_ex_a = 0.15\n",
    "    sigma_ex_a = 20\n",
    "    \n",
    "    L_in_a = 0.05\n",
    "    sigma_in_a = 80\n",
    "\n",
    "    return L_s(D_x, D_y, L_ex_a, sigma_ex_a, L_in_a, sigma_in_a)"
   ]
  },
  {
   "cell_type": "code",
   "execution_count": 38,
   "id": "024e6ba7",
   "metadata": {},
   "outputs": [],
   "source": [
    "def L2_t(i, j):\n",
    "    conn_t = torch.zeros(N_t, M_t, device=device)\n",
    "    \n",
    "    for h in range(M_t):\n",
    "        for k in range(N_t):\n",
    "            if h + 1 == i and k + 1 == j:\n",
    "                conn_t[k][h] = 0\n",
    "            else:\n",
    "                conn_t[k][h] = L_t(i, j, h, k)\n",
    "    \n",
    "    return conn_t"
   ]
  },
  {
   "cell_type": "code",
   "execution_count": 40,
   "id": "1aeddaf0",
   "metadata": {},
   "outputs": [
    {
     "data": {
      "text/plain": [
       "torch.Size([20, 40])"
      ]
     },
     "execution_count": 40,
     "metadata": {},
     "output_type": "execute_result"
    }
   ],
   "source": [
    "L_hk_t(1, 1).shape"
   ]
  },
  {
   "cell_type": "code",
   "execution_count": 6,
   "id": "37d0053d",
   "metadata": {},
   "outputs": [],
   "source": [
    "fmin_t = -0.12\n",
    "fmax_t = 1\n",
    "qc_t = 19.43\n",
    "r_t = 0.34"
   ]
  },
  {
   "cell_type": "code",
   "execution_count": 7,
   "id": "990ebb70",
   "metadata": {},
   "outputs": [],
   "source": [
    "fmin_a = -0.12\n",
    "fmax_a = 1\n",
    "qc_a = 19.43\n",
    "r_a = 0.34"
   ]
  },
  {
   "cell_type": "code",
   "execution_count": 8,
   "id": "1042dcf2",
   "metadata": {},
   "outputs": [],
   "source": [
    "fmin_m = 0\n",
    "fmax_m = 1\n",
    "qc_m = 12\n",
    "r_m = 0.6"
   ]
  },
  {
   "cell_type": "code",
   "execution_count": 9,
   "id": "0e079039",
   "metadata": {},
   "outputs": [],
   "source": [
    "tau = 20"
   ]
  },
  {
   "cell_type": "code",
   "execution_count": 31,
   "id": "c5ff4a87",
   "metadata": {},
   "outputs": [],
   "source": [
    "area_t = torch.zeros(N_t, M_t, device=device)"
   ]
  },
  {
   "cell_type": "code",
   "execution_count": 37,
   "id": "7769f7b9",
   "metadata": {},
   "outputs": [
    {
     "data": {
      "text/plain": [
       "torch.Size([20, 40])"
      ]
     },
     "execution_count": 37,
     "metadata": {},
     "output_type": "execute_result"
    }
   ],
   "source": [
    "area_t.shape"
   ]
  },
  {
   "cell_type": "code",
   "execution_count": 33,
   "id": "2e913a41",
   "metadata": {},
   "outputs": [],
   "source": [
    "def G_m(q_m):\n",
    "    factor = np.exp((q_m - qc_m) * r_t)\n",
    "    return (fmin_m + fmax_m * factor) / (1 + factor)\n",
    "    \n",
    "def z_m(q_m):\n",
    "    F_val = G_m(q_m)\n",
    "    if F_val >= 0:\n",
    "        return F_val\n",
    "    else:\n",
    "        return 0.0"
   ]
  },
  {
   "cell_type": "code",
   "execution_count": 65,
   "id": "21245068",
   "metadata": {},
   "outputs": [],
   "source": [
    "def q_t(area, i, j):\n",
    "    return area[j][i]\n",
    "\n",
    "def F_t(area, i, j):\n",
    "    factor = np.exp((q_t(area, i, j) - qc_t) * r_t)\n",
    "    return (fmin_t + fmax_t * factor) / (1 + factor)\n",
    "    \n",
    "def z_t(area, i, j):\n",
    "    F_val = F_t(area, i, j)\n",
    "    if F_val >= 0:\n",
    "        return F_val\n",
    "    else:\n",
    "        return 0.0"
   ]
  },
  {
   "cell_type": "code",
   "execution_count": 41,
   "id": "282b37c6",
   "metadata": {},
   "outputs": [],
   "source": [
    "# def q_t(area):\n",
    "#     return area\n",
    "\n",
    "# def F_t(area):\n",
    "#     factor = torch.exp((area - qc_t) * r_t)\n",
    "#     return (fmin_t + fmax_t * factor) / (1 + factor)\n",
    "    \n",
    "# def z_t(area):\n",
    "#     cond = F_t(area)\n",
    "#     t1 = F_t(area)\n",
    "#     t2 = torch.zeros(area.shape[0], area.shape[1], device=device)\n",
    "#     return torch.where(cond >= 0, t1, t2)"
   ]
  },
  {
   "cell_type": "code",
   "execution_count": 62,
   "id": "36c41e8a",
   "metadata": {},
   "outputs": [],
   "source": [
    "def I2_t(area, i, j):    \n",
    "    return L_hk_t(i, j) * z_t(area, i, j)\n",
    "\n",
    "def phi2_t(area, d=0.5, delta_x_l=0.2, delta_y_n=0.2):\n",
    "    area_t = torch.zeros(area.shape[0], area.shape[1], device=device)\n",
    "    \n",
    "    for i in range(M_t):\n",
    "        for j in range(N_t):\n",
    "            sum_phi_t = 0.0\n",
    "            \n",
    "            for x_l in np.arange(delta_x_l, 20, delta_x_l):\n",
    "                for y_n in np.arange(delta_y_n, 10, delta_y_n):\n",
    "                    x_i = d * (i + 1)\n",
    "                    y_j = d * (j + 1)\n",
    "                    \n",
    "                    sum_phi_t += I_t(x_l, y_n) * phi_t(x_l, y_n, x_i, y_j)\n",
    "            \n",
    "            area_t[j][i] = sum_phi_t\n",
    "                    \n",
    "    return area_t"
   ]
  },
  {
   "cell_type": "code",
   "execution_count": 63,
   "id": "ac15f6f3",
   "metadata": {},
   "outputs": [
    {
     "data": {
      "text/plain": [
       "torch.Size([20, 40])"
      ]
     },
     "execution_count": 63,
     "metadata": {},
     "output_type": "execute_result"
    }
   ],
   "source": [
    "I2_t(area_t, 1, 1).shape"
   ]
  },
  {
   "cell_type": "code",
   "execution_count": 64,
   "id": "75e6d16e",
   "metadata": {},
   "outputs": [
    {
     "data": {
      "text/plain": [
       "tensor([[3.1429e-21, 2.1882e-19, 1.2113e-17, 5.3308e-16, 1.8652e-14, 5.1886e-13,\n",
       "         1.1476e-11, 2.0178e-10, 2.8209e-09, 3.1353e-08, 2.7705e-07, 1.9464e-06,\n",
       "         1.0872e-05, 4.8279e-05, 1.7045e-04, 4.7846e-04, 1.0678e-03, 1.8945e-03,\n",
       "         2.6725e-03, 2.9972e-03, 2.6725e-03, 1.8945e-03, 1.0678e-03, 4.7846e-04,\n",
       "         1.7045e-04, 4.8279e-05, 1.0872e-05, 1.9464e-06, 2.7705e-07, 3.1353e-08,\n",
       "         2.8209e-09, 2.0178e-10, 1.1476e-11, 5.1886e-13, 1.8652e-14, 5.3308e-16,\n",
       "         1.2113e-17, 2.1882e-19, 3.1429e-21, 3.5888e-23],\n",
       "        [2.2080e-20, 1.5373e-18, 8.5098e-17, 3.7451e-15, 1.3104e-13, 3.6453e-12,\n",
       "         8.0621e-11, 1.4176e-09, 1.9818e-08, 2.2027e-07, 1.9464e-06, 1.3674e-05,\n",
       "         7.6380e-05, 3.3918e-04, 1.1975e-03, 3.3614e-03, 7.5016e-03, 1.3310e-02,\n",
       "         1.8775e-02, 2.1057e-02, 1.8775e-02, 1.3310e-02, 7.5016e-03, 3.3614e-03,\n",
       "         1.1975e-03, 3.3918e-04, 7.6380e-05, 1.3674e-05, 1.9464e-06, 2.2027e-07,\n",
       "         1.9818e-08, 1.4176e-09, 8.0621e-11, 3.6453e-12, 1.3104e-13, 3.7451e-15,\n",
       "         8.5098e-17, 1.5373e-18, 2.2080e-20, 2.5213e-22],\n",
       "        [1.2333e-19, 8.5868e-18, 4.7532e-16, 2.0918e-14, 7.3193e-13, 2.0361e-11,\n",
       "         4.5031e-10, 7.9182e-09, 1.1069e-07, 1.2303e-06, 1.0872e-05, 7.6380e-05,\n",
       "         4.2662e-04, 1.8945e-03, 6.6888e-03, 1.8775e-02, 4.1901e-02, 7.4343e-02,\n",
       "         1.0487e-01, 1.1761e-01, 1.0487e-01, 7.4343e-02, 4.1901e-02, 1.8775e-02,\n",
       "         6.6888e-03, 1.8945e-03, 4.2662e-04, 7.6380e-05, 1.0872e-05, 1.2303e-06,\n",
       "         1.1069e-07, 7.9182e-09, 4.5031e-10, 2.0361e-11, 7.3193e-13, 2.0918e-14,\n",
       "         4.7532e-16, 8.5868e-18, 1.2333e-19, 1.4083e-21],\n",
       "        [5.4768e-19, 3.8132e-17, 2.1108e-15, 9.2894e-14, 3.2503e-12, 9.0417e-11,\n",
       "         1.9997e-09, 3.5163e-08, 4.9157e-07, 5.4636e-06, 4.8279e-05, 3.3918e-04,\n",
       "         1.8945e-03, 8.4131e-03, 2.9703e-02, 8.3377e-02, 1.8607e-01, 3.3014e-01,\n",
       "         4.6571e-01, 5.2230e-01, 4.6571e-01, 3.3014e-01, 1.8607e-01, 8.3377e-02,\n",
       "         2.9703e-02, 8.4131e-03, 1.8945e-03, 3.3918e-04, 4.8279e-05, 5.4636e-06,\n",
       "         4.9157e-07, 3.5163e-08, 1.9997e-09, 9.0417e-11, 3.2503e-12, 9.2894e-14,\n",
       "         2.1108e-15, 3.8132e-17, 5.4768e-19, 6.2539e-21],\n",
       "        [1.9336e-18, 1.3463e-16, 7.4523e-15, 3.2797e-13, 1.1476e-11, 3.1923e-10,\n",
       "         7.0602e-09, 1.2415e-07, 1.7355e-06, 1.9290e-05, 1.7045e-04, 1.1975e-03,\n",
       "         6.6888e-03, 2.9703e-02, 1.0487e-01, 2.9437e-01, 6.5694e-01, 1.1656e+00,\n",
       "         1.6442e+00, 1.8440e+00, 1.6442e+00, 1.1656e+00, 6.5694e-01, 2.9437e-01,\n",
       "         1.0487e-01, 2.9703e-02, 6.6888e-03, 1.1975e-03, 1.7045e-04, 1.9290e-05,\n",
       "         1.7355e-06, 1.2415e-07, 7.0602e-09, 3.1923e-10, 1.1476e-11, 3.2797e-13,\n",
       "         7.4523e-15, 1.3463e-16, 1.9336e-18, 2.2080e-20],\n",
       "        [5.4277e-18, 3.7790e-16, 2.0918e-14, 9.2061e-13, 3.2212e-11, 8.9607e-10,\n",
       "         1.9818e-08, 3.4847e-07, 4.8716e-06, 5.4146e-05, 4.7846e-04, 3.3614e-03,\n",
       "         1.8775e-02, 8.3377e-02, 2.9437e-01, 8.2629e-01, 1.8440e+00, 3.2718e+00,\n",
       "         4.6153e+00, 5.1761e+00, 4.6153e+00, 3.2718e+00, 1.8440e+00, 8.2629e-01,\n",
       "         2.9437e-01, 8.3377e-02, 1.8775e-02, 3.3614e-03, 4.7846e-04, 5.4146e-05,\n",
       "         4.8716e-06, 3.4847e-07, 1.9818e-08, 8.9607e-10, 3.2212e-11, 9.2061e-13,\n",
       "         2.0918e-14, 3.7790e-16, 5.4277e-18, 6.1978e-20],\n",
       "        [1.2113e-17, 8.4335e-16, 4.6683e-14, 2.0545e-12, 7.1886e-11, 1.9997e-09,\n",
       "         4.4227e-08, 7.7768e-07, 1.0872e-05, 1.2084e-04, 1.0678e-03, 7.5016e-03,\n",
       "         4.1901e-02, 1.8607e-01, 6.5694e-01, 1.8440e+00, 4.1153e+00, 7.3016e+00,\n",
       "         1.0300e+01, 1.1551e+01, 1.0300e+01, 7.3016e+00, 4.1153e+00, 1.8440e+00,\n",
       "         6.5694e-01, 1.8607e-01, 4.1901e-02, 7.5016e-03, 1.0678e-03, 1.2084e-04,\n",
       "         1.0872e-05, 7.7768e-07, 4.4227e-08, 1.9997e-09, 7.1886e-11, 2.0545e-12,\n",
       "         4.6683e-14, 8.4335e-16, 1.2113e-17, 1.3832e-19],\n",
       "        [2.1491e-17, 1.4963e-15, 8.2829e-14, 3.6453e-12, 1.2755e-10, 3.5481e-09,\n",
       "         7.8472e-08, 1.3798e-06, 1.9290e-05, 2.1440e-04, 1.8945e-03, 1.3310e-02,\n",
       "         7.4343e-02, 3.3014e-01, 1.1656e+00, 3.2718e+00, 7.3016e+00, 1.2955e+01,\n",
       "         1.8275e+01, 2.0495e+01, 1.8275e+01, 1.2955e+01, 7.3016e+00, 3.2718e+00,\n",
       "         1.1656e+00, 3.3014e-01, 7.4343e-02, 1.3310e-02, 1.8945e-03, 2.1440e-04,\n",
       "         1.9290e-05, 1.3798e-06, 7.8472e-08, 3.5481e-09, 1.2755e-10, 3.6453e-12,\n",
       "         8.2829e-14, 1.4963e-15, 2.1491e-17, 2.4541e-19],\n",
       "        [3.0316e-17, 2.1108e-15, 1.1684e-13, 5.1421e-12, 1.7992e-10, 5.0050e-09,\n",
       "         1.1069e-07, 1.9464e-06, 2.7211e-05, 3.0243e-04, 2.6725e-03, 1.8775e-02,\n",
       "         1.0487e-01, 4.6571e-01, 1.6442e+00, 4.6153e+00, 1.0300e+01, 1.8275e+01,\n",
       "         2.5779e+01, 2.8912e+01, 2.5779e+01, 1.8275e+01, 1.0300e+01, 4.6153e+00,\n",
       "         1.6442e+00, 4.6571e-01, 1.0487e-01, 1.8775e-02, 2.6725e-03, 3.0243e-04,\n",
       "         2.7211e-05, 1.9464e-06, 1.1069e-07, 5.0050e-09, 1.7992e-10, 5.1421e-12,\n",
       "         1.1684e-13, 2.1108e-15, 3.0316e-17, 3.4618e-19],\n",
       "        [3.4000e-17, 2.3673e-15, 1.3104e-13, 5.7669e-12, 2.0178e-10, 5.6132e-09,\n",
       "         1.2415e-07, 2.1829e-06, 3.0517e-05, 3.3918e-04, 2.9972e-03, 2.1057e-02,\n",
       "         1.1761e-01, 5.2230e-01, 1.8440e+00, 5.1761e+00, 1.1551e+01, 2.0495e+01,\n",
       "         2.8912e+01, 3.2425e+01, 2.8912e+01, 2.0495e+01, 1.1551e+01, 5.1761e+00,\n",
       "         1.8440e+00, 5.2230e-01, 1.1761e-01, 2.1057e-02, 2.9972e-03, 3.3918e-04,\n",
       "         3.0517e-05, 2.1829e-06, 1.2415e-07, 5.6132e-09, 2.0178e-10, 5.7669e-12,\n",
       "         1.3104e-13, 2.3673e-15, 3.4000e-17, 3.8825e-19],\n",
       "        [3.0316e-17, 2.1108e-15, 1.1684e-13, 5.1421e-12, 1.7992e-10, 5.0050e-09,\n",
       "         1.1069e-07, 1.9464e-06, 2.7211e-05, 3.0243e-04, 2.6725e-03, 1.8775e-02,\n",
       "         1.0487e-01, 4.6571e-01, 1.6442e+00, 4.6153e+00, 1.0300e+01, 1.8275e+01,\n",
       "         2.5779e+01, 2.8912e+01, 2.5779e+01, 1.8275e+01, 1.0300e+01, 4.6153e+00,\n",
       "         1.6442e+00, 4.6571e-01, 1.0487e-01, 1.8775e-02, 2.6725e-03, 3.0243e-04,\n",
       "         2.7211e-05, 1.9464e-06, 1.1069e-07, 5.0050e-09, 1.7992e-10, 5.1421e-12,\n",
       "         1.1684e-13, 2.1108e-15, 3.0316e-17, 3.4618e-19],\n",
       "        [2.1491e-17, 1.4963e-15, 8.2829e-14, 3.6453e-12, 1.2755e-10, 3.5481e-09,\n",
       "         7.8472e-08, 1.3798e-06, 1.9290e-05, 2.1440e-04, 1.8945e-03, 1.3310e-02,\n",
       "         7.4343e-02, 3.3014e-01, 1.1656e+00, 3.2718e+00, 7.3016e+00, 1.2955e+01,\n",
       "         1.8275e+01, 2.0495e+01, 1.8275e+01, 1.2955e+01, 7.3016e+00, 3.2718e+00,\n",
       "         1.1656e+00, 3.3014e-01, 7.4343e-02, 1.3310e-02, 1.8945e-03, 2.1440e-04,\n",
       "         1.9290e-05, 1.3798e-06, 7.8472e-08, 3.5481e-09, 1.2755e-10, 3.6453e-12,\n",
       "         8.2829e-14, 1.4963e-15, 2.1491e-17, 2.4541e-19],\n",
       "        [1.2113e-17, 8.4335e-16, 4.6683e-14, 2.0545e-12, 7.1886e-11, 1.9997e-09,\n",
       "         4.4227e-08, 7.7768e-07, 1.0872e-05, 1.2084e-04, 1.0678e-03, 7.5016e-03,\n",
       "         4.1901e-02, 1.8607e-01, 6.5694e-01, 1.8440e+00, 4.1153e+00, 7.3016e+00,\n",
       "         1.0300e+01, 1.1551e+01, 1.0300e+01, 7.3016e+00, 4.1153e+00, 1.8440e+00,\n",
       "         6.5694e-01, 1.8607e-01, 4.1901e-02, 7.5016e-03, 1.0678e-03, 1.2084e-04,\n",
       "         1.0872e-05, 7.7768e-07, 4.4227e-08, 1.9997e-09, 7.1886e-11, 2.0545e-12,\n",
       "         4.6683e-14, 8.4335e-16, 1.2113e-17, 1.3832e-19],\n",
       "        [5.4277e-18, 3.7790e-16, 2.0918e-14, 9.2061e-13, 3.2212e-11, 8.9607e-10,\n",
       "         1.9818e-08, 3.4847e-07, 4.8716e-06, 5.4146e-05, 4.7846e-04, 3.3614e-03,\n",
       "         1.8775e-02, 8.3377e-02, 2.9437e-01, 8.2629e-01, 1.8440e+00, 3.2718e+00,\n",
       "         4.6153e+00, 5.1761e+00, 4.6153e+00, 3.2718e+00, 1.8440e+00, 8.2629e-01,\n",
       "         2.9437e-01, 8.3377e-02, 1.8775e-02, 3.3614e-03, 4.7846e-04, 5.4146e-05,\n",
       "         4.8716e-06, 3.4847e-07, 1.9818e-08, 8.9607e-10, 3.2212e-11, 9.2061e-13,\n",
       "         2.0918e-14, 3.7790e-16, 5.4277e-18, 6.1978e-20],\n",
       "        [1.9336e-18, 1.3463e-16, 7.4523e-15, 3.2797e-13, 1.1476e-11, 3.1923e-10,\n",
       "         7.0602e-09, 1.2415e-07, 1.7355e-06, 1.9290e-05, 1.7045e-04, 1.1975e-03,\n",
       "         6.6888e-03, 2.9703e-02, 1.0487e-01, 2.9437e-01, 6.5694e-01, 1.1656e+00,\n",
       "         1.6442e+00, 1.8440e+00, 1.6442e+00, 1.1656e+00, 6.5694e-01, 2.9437e-01,\n",
       "         1.0487e-01, 2.9703e-02, 6.6888e-03, 1.1975e-03, 1.7045e-04, 1.9290e-05,\n",
       "         1.7355e-06, 1.2415e-07, 7.0602e-09, 3.1923e-10, 1.1476e-11, 3.2797e-13,\n",
       "         7.4523e-15, 1.3463e-16, 1.9336e-18, 2.2080e-20],\n",
       "        [5.4768e-19, 3.8132e-17, 2.1108e-15, 9.2894e-14, 3.2503e-12, 9.0417e-11,\n",
       "         1.9997e-09, 3.5163e-08, 4.9157e-07, 5.4636e-06, 4.8279e-05, 3.3918e-04,\n",
       "         1.8945e-03, 8.4131e-03, 2.9703e-02, 8.3377e-02, 1.8607e-01, 3.3014e-01,\n",
       "         4.6571e-01, 5.2230e-01, 4.6571e-01, 3.3014e-01, 1.8607e-01, 8.3377e-02,\n",
       "         2.9703e-02, 8.4131e-03, 1.8945e-03, 3.3918e-04, 4.8279e-05, 5.4636e-06,\n",
       "         4.9157e-07, 3.5163e-08, 1.9997e-09, 9.0417e-11, 3.2503e-12, 9.2894e-14,\n",
       "         2.1108e-15, 3.8132e-17, 5.4768e-19, 6.2539e-21],\n",
       "        [1.2333e-19, 8.5868e-18, 4.7532e-16, 2.0918e-14, 7.3193e-13, 2.0361e-11,\n",
       "         4.5031e-10, 7.9182e-09, 1.1069e-07, 1.2303e-06, 1.0872e-05, 7.6380e-05,\n",
       "         4.2662e-04, 1.8945e-03, 6.6888e-03, 1.8775e-02, 4.1901e-02, 7.4343e-02,\n",
       "         1.0487e-01, 1.1761e-01, 1.0487e-01, 7.4343e-02, 4.1901e-02, 1.8775e-02,\n",
       "         6.6888e-03, 1.8945e-03, 4.2662e-04, 7.6380e-05, 1.0872e-05, 1.2303e-06,\n",
       "         1.1069e-07, 7.9182e-09, 4.5031e-10, 2.0361e-11, 7.3193e-13, 2.0918e-14,\n",
       "         4.7532e-16, 8.5868e-18, 1.2333e-19, 1.4083e-21],\n",
       "        [2.2080e-20, 1.5373e-18, 8.5098e-17, 3.7451e-15, 1.3104e-13, 3.6453e-12,\n",
       "         8.0621e-11, 1.4176e-09, 1.9818e-08, 2.2027e-07, 1.9464e-06, 1.3674e-05,\n",
       "         7.6380e-05, 3.3918e-04, 1.1975e-03, 3.3614e-03, 7.5016e-03, 1.3310e-02,\n",
       "         1.8775e-02, 2.1057e-02, 1.8775e-02, 1.3310e-02, 7.5016e-03, 3.3614e-03,\n",
       "         1.1975e-03, 3.3918e-04, 7.6380e-05, 1.3674e-05, 1.9464e-06, 2.2027e-07,\n",
       "         1.9818e-08, 1.4176e-09, 8.0621e-11, 3.6453e-12, 1.3104e-13, 3.7451e-15,\n",
       "         8.5098e-17, 1.5373e-18, 2.2080e-20, 2.5213e-22],\n",
       "        [3.1429e-21, 2.1882e-19, 1.2113e-17, 5.3308e-16, 1.8652e-14, 5.1886e-13,\n",
       "         1.1476e-11, 2.0178e-10, 2.8209e-09, 3.1353e-08, 2.7705e-07, 1.9464e-06,\n",
       "         1.0872e-05, 4.8279e-05, 1.7045e-04, 4.7846e-04, 1.0678e-03, 1.8945e-03,\n",
       "         2.6725e-03, 2.9972e-03, 2.6725e-03, 1.8945e-03, 1.0678e-03, 4.7846e-04,\n",
       "         1.7045e-04, 4.8279e-05, 1.0872e-05, 1.9464e-06, 2.7705e-07, 3.1353e-08,\n",
       "         2.8209e-09, 2.0178e-10, 1.1476e-11, 5.1886e-13, 1.8652e-14, 5.3308e-16,\n",
       "         1.2113e-17, 2.1882e-19, 3.1429e-21, 3.5888e-23],\n",
       "        [3.5567e-22, 2.4763e-20, 1.3708e-18, 6.0326e-17, 2.1108e-15, 5.8718e-14,\n",
       "         1.2986e-12, 2.2835e-11, 3.1923e-10, 3.5481e-09, 3.1353e-08, 2.2027e-07,\n",
       "         1.2303e-06, 5.4636e-06, 1.9290e-05, 5.4146e-05, 1.2084e-04, 2.1440e-04,\n",
       "         3.0243e-04, 3.3918e-04, 3.0243e-04, 2.1440e-04, 1.2084e-04, 5.4146e-05,\n",
       "         1.9290e-05, 5.4636e-06, 1.2303e-06, 2.2027e-07, 3.1353e-08, 3.5481e-09,\n",
       "         3.1923e-10, 2.2835e-11, 1.2986e-12, 5.8718e-14, 2.1108e-15, 6.0326e-17,\n",
       "         1.3708e-18, 2.4763e-20, 3.5567e-22, 4.0613e-24]], device='cuda:0')"
      ]
     },
     "execution_count": 64,
     "metadata": {},
     "output_type": "execute_result"
    }
   ],
   "source": [
    "phi2_t(area_t).shape"
   ]
  },
  {
   "cell_type": "code",
   "execution_count": null,
   "id": "881f616c",
   "metadata": {},
   "outputs": [],
   "source": [
    "def B2_t(q_m):\n",
    "    return B_t() + z_m(q_m)\n",
    "\n",
    "def u_t(area, i, j, q_m):\n",
    "    return phi2_t(i, j) + I2_t(area, i, j) + B2_t(q_m)\n",
    "\n",
    "def fire_t(area, q_m):\n",
    "    for i in range(M_t):\n",
    "        for j in range(N_t):\n",
    "            area[j][i] = -q_t(area, i, j) + u_t(area, i, j, q_m)"
   ]
  },
  {
   "cell_type": "code",
   "execution_count": null,
   "id": "49828760",
   "metadata": {},
   "outputs": [],
   "source": [
    "def q_a(area, i, j):\n",
    "    return area[j][i]\n",
    "\n",
    "def F_a(area, i, j):\n",
    "    factor = np.exp((q_a(area, i, j) - qc_a) * r_a)\n",
    "    return (fmin_a + fmax_a * factor) / (1 + factor)\n",
    "    \n",
    "def z_a(area, i, j):\n",
    "    F_val = F_t(area, i, j)\n",
    "    if F_val >= 0:\n",
    "        return F_val\n",
    "    else:\n",
    "        return 0.0"
   ]
  },
  {
   "cell_type": "code",
   "execution_count": null,
   "id": "71db6fd6",
   "metadata": {},
   "outputs": [],
   "source": [
    "def I2_a(area, i, j):\n",
    "    sum_val = 0.0\n",
    "    for k in range(M_a):\n",
    "        for h in range(N_a):\n",
    "            D_x = x_a(i + 1) - x_a(k + 1)\n",
    "            D_y = y_a(j + 1) - y_a(h + 1)\n",
    "            sum_val += L_a(D_x, D_y) * z_a(area, i, j)\n",
    "    return sum_val\n",
    "\n",
    "def phi2_a(i, j, d=0.5, delta_x_l=0.2, delta_y_n=0.2):\n",
    "    sum_phi_a = 0.0\n",
    "    \n",
    "    for x_l in np.arange(delta_x_l, 200, delta_x_l):\n",
    "        for y_n in np.arange(delta_y_n, 30, delta_y_n):\n",
    "            x_i = d * (i + 1) - 5\n",
    "            y_j = d * (j + 1) - 15\n",
    "                    \n",
    "            sum_phi_a += I_a(x_l, y_n) * phi_a(x_l, y_n, x_i, y_j)\n",
    "            \n",
    "    return sum_phi_t"
   ]
  },
  {
   "cell_type": "code",
   "execution_count": null,
   "id": "ca03fdb4",
   "metadata": {},
   "outputs": [],
   "source": [
    "def B2_a(q_m):\n",
    "    return B_a() + z_m(q_m)\n",
    "\n",
    "def u_a(area, i, j, q_m):\n",
    "    return phi2_a(i, j) + I2_a(area, i, j) + B2_a(q_m)\n",
    "\n",
    "def fire_a(area, q_m):\n",
    "    for i in range(M_t):\n",
    "        for j in range(N_t):\n",
    "            area[j][i] = -q_a(area, i, j) + u_a(area, i, j, q_m)"
   ]
  },
  {
   "cell_type": "code",
   "execution_count": null,
   "id": "f5f1ee4e",
   "metadata": {},
   "outputs": [],
   "source": [
    "def u_m(area):\n",
    "    sum_t = 0\n",
    "    for i in range(M_t):\n",
    "        for j in range(N_t):\n",
    "            sum_t += W_t() * z_t(area, i, j)\n",
    "            \n",
    "    sum_a = 0\n",
    "    for i in range(M_a):\n",
    "        for j in range(N_a):\n",
    "            sum_a += W_a(D_a(i, j)) * z_a(area, i, j)\n",
    "    \n",
    "    return sum_t + sum_a"
   ]
  },
  {
   "cell_type": "code",
   "execution_count": null,
   "id": "d3547ffb",
   "metadata": {},
   "outputs": [],
   "source": [
    "q_m = 0.0\n",
    "\n",
    "area_t = np.zeros((N_t, M_t))\n",
    "\n",
    "for i in tqdm(range(int(200 / 0.4))[:10]):\n",
    "    q_m = -q_m + u_m(area_t)\n",
    "    fire_t(area_t, q_m)"
   ]
  }
 ],
 "metadata": {
  "kernelspec": {
   "display_name": "Python 3 (ipykernel)",
   "language": "python",
   "name": "python3"
  },
  "language_info": {
   "codemirror_mode": {
    "name": "ipython",
    "version": 3
   },
   "file_extension": ".py",
   "mimetype": "text/x-python",
   "name": "python",
   "nbconvert_exporter": "python",
   "pygments_lexer": "ipython3",
   "version": "3.10.9"
  }
 },
 "nbformat": 4,
 "nbformat_minor": 5
}
