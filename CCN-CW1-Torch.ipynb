{
 "cells": [
  {
   "cell_type": "code",
   "execution_count": 1,
   "id": "11dcef82",
   "metadata": {},
   "outputs": [
    {
     "data": {
      "text/plain": [
       "device(type='cuda', index=0)"
      ]
     },
     "execution_count": 1,
     "metadata": {},
     "output_type": "execute_result"
    }
   ],
   "source": [
    "import time\n",
    "import torch\n",
    "import numpy as np\n",
    "import matplotlib.pyplot as plt\n",
    "from matplotlib.ticker import MultipleLocator\n",
    "import seaborn as sns\n",
    "from tqdm.auto import tqdm\n",
    "\n",
    "device = torch.device(\"cuda:0\" if torch.cuda.is_available() else \"cpu\")\n",
    "device"
   ]
  },
  {
   "cell_type": "code",
   "execution_count": 2,
   "id": "235cca30",
   "metadata": {},
   "outputs": [],
   "source": [
    "all_start = time.time()"
   ]
  },
  {
   "cell_type": "markdown",
   "id": "59ef4c1e",
   "metadata": {},
   "source": [
    "# Parameters"
   ]
  },
  {
   "cell_type": "code",
   "execution_count": 3,
   "id": "800c5ae4",
   "metadata": {},
   "outputs": [],
   "source": [
    "M_t = 40\n",
    "N_t = 20\n",
    "\n",
    "M_a = 20\n",
    "N_a = 3\n",
    "\n",
    "x_o_t = 10\n",
    "y_o_t = 5\n",
    "I_0_t = 2.5\n",
    "sigma_I_t = 0.3\n",
    "\n",
    "x_o_a = 100\n",
    "y_o_a = 15\n",
    "I_0_a = 3.6\n",
    "sigma_I_a = 0.3\n",
    "\n",
    "phi_0_t = 1\n",
    "sigma_phi_t = 1\n",
    "\n",
    "phi_0_a = 1\n",
    "sigma_phi_a = 10\n",
    "\n",
    "L_ex_t = 0.15\n",
    "L_in_t = 0.05\n",
    "sigma_ex_t = 1\n",
    "sigma_in_t = 1\n",
    "\n",
    "L_ex_a = 0.15\n",
    "L_in_a = 0.05\n",
    "sigma_ex_a = 20\n",
    "sigma_in_a = 80\n",
    "\n",
    "W0_t = 6.5\n",
    "B0_t = 2.5\n",
    "\n",
    "W0_a = 6.5\n",
    "B0_a = 2.5\n",
    "\n",
    "k1 = 15\n",
    "k2 = 800\n",
    "alpha = 0.9\n",
    "Lim = 65\n",
    "\n",
    "fmin_t = -0.12\n",
    "fmax_t = 1\n",
    "qc_t = 19.43\n",
    "r_t = 0.34\n",
    "\n",
    "fmin_a = -0.12\n",
    "fmax_a = 1\n",
    "qc_a = 19.43\n",
    "r_a = 0.34\n",
    "\n",
    "fmin_m = 0\n",
    "fmax_m = 1\n",
    "qc_m = 12\n",
    "r_m = 0.6\n",
    "\n",
    "tau = 20\n",
    "\n",
    "d_t = 0.4\n",
    "total_time = 200"
   ]
  },
  {
   "cell_type": "code",
   "execution_count": 4,
   "id": "65408285",
   "metadata": {},
   "outputs": [],
   "source": [
    "# M_t = 40\n",
    "# N_t = 20\n",
    "\n",
    "# M_a = 20\n",
    "# N_a = 3\n",
    "\n",
    "# I_0_t = 2.5\n",
    "# sigma_I_t = 0.3\n",
    "\n",
    "# I_0_a = 3.6\n",
    "# sigma_I_a = 0.3\n",
    "\n",
    "# x_o_t = 10\n",
    "# y_o_t = 5\n",
    "\n",
    "# x_o_a = 100\n",
    "# y_o_a = 5\n",
    "\n",
    "# phi_0_t = 1\n",
    "# sigma_phi_t = 0.5\n",
    "\n",
    "# phi_0_a = 1\n",
    "# sigma_phi_a = 10\n",
    "\n",
    "# L_ex_t = 0.15\n",
    "# sigma_ex_t = 1\n",
    "# L_in_t = 0.05\n",
    "# sigma_in_t = 4\n",
    "\n",
    "# L_ex_a = 0.15\n",
    "# sigma_ex_a = 20\n",
    "# L_in_a = 0.05\n",
    "# sigma_in_a = 80\n",
    "\n",
    "# W0_t = 6.5\n",
    "# B0_t = 2.5\n",
    "\n",
    "# W0_a = 6.5\n",
    "# B0_a = 2.5\n",
    "\n",
    "# k1 = 10\n",
    "# k2 = 700\n",
    "# alpha = 0.9\n",
    "# Lim = 60\n",
    "\n",
    "# fmin_t = -0.12\n",
    "# fmax_t = 1\n",
    "# qc_t = 19.43\n",
    "# r_t = 0.34\n",
    "\n",
    "# fmin_a = -0.12\n",
    "# fmax_a = 1\n",
    "# qc_a = 19.43\n",
    "# r_a = 0.34\n",
    "\n",
    "# fmin_m = 0\n",
    "# fmax_m = 1\n",
    "# qc_m = 12\n",
    "# r_m = 0.6\n",
    "\n",
    "# tau = 20\n",
    "\n",
    "# d_t = 0.4\n",
    "# total_time = 200"
   ]
  },
  {
   "cell_type": "code",
   "execution_count": 5,
   "id": "639fb124",
   "metadata": {},
   "outputs": [],
   "source": [
    "delta_val = 0.2"
   ]
  },
  {
   "cell_type": "code",
   "execution_count": 6,
   "id": "90ae31ba",
   "metadata": {},
   "outputs": [],
   "source": [
    "def x_t(i):\n",
    "    # i start with 1\n",
    "    return i * 0.5\n",
    "\n",
    "def y_t(j):\n",
    "    # j start with 1\n",
    "    return j * 0.5\n",
    "\n",
    "def x_a(i):\n",
    "    # i start with 1\n",
    "    return i * 10 - 5\n",
    "\n",
    "def y_a(j):\n",
    "    # j start with 1\n",
    "    return j * 10 - 15"
   ]
  },
  {
   "cell_type": "code",
   "execution_count": 7,
   "id": "ded7bd30",
   "metadata": {},
   "outputs": [],
   "source": [
    "def I_s(x, y, x_o, y_o, I_0, sigma_I):\n",
    "    return I_0 * np.exp( - ((x - x_o)**2 + (y - y_o)**2) / (2 * (sigma_I**2)))\n",
    "\n",
    "def I_t(x, y):\n",
    "    return I_s(x, y, x_o_t, y_o_t, I_0_t, sigma_I_t)\n",
    "\n",
    "def I_a(x, y):\n",
    "    return I_s(x, y, x_o_a, y_o_a, I_0_a, sigma_I_a)"
   ]
  },
  {
   "cell_type": "code",
   "execution_count": 8,
   "id": "7cc1f5e9",
   "metadata": {},
   "outputs": [],
   "source": [
    "width_t = np.arange(0, 10 + delta_val, delta_val)\n",
    "length_t = np.arange(0, 20 + delta_val, delta_val)\n",
    "\n",
    "I_t_net = torch.zeros(len(width_t), len(length_t))\n",
    "\n",
    "for x in range(len(length_t)):\n",
    "    for y in range(len(width_t)):\n",
    "        x_l = x * delta_val\n",
    "        y_n = y * delta_val\n",
    "        I_t_net[y][x] = I_t(x_l, y_n)"
   ]
  },
  {
   "cell_type": "code",
   "execution_count": 9,
   "id": "15d75d46",
   "metadata": {},
   "outputs": [
    {
     "data": {
      "text/plain": [
       "[Text(0, 0, '0'), Text(50, 0, '10'), Text(100, 0, '20')]"
      ]
     },
     "execution_count": 9,
     "metadata": {},
     "output_type": "execute_result"
    },
    {
     "data": {
      "image/png": "[encoded data removed]",
      "text/plain": [
       "<Figure size 640x480 with 2 Axes>"
      ]
     },
     "metadata": {},
     "output_type": "display_data"
    }
   ],
   "source": [
    "ax = sns.heatmap(I_t_net.cpu().detach().numpy(), square=True, cmap=\"jet\")\n",
    "\n",
    "y_num_ticks = 3\n",
    "yticks = np.linspace(0, len(width_t) - 1, y_num_ticks, dtype=np.int32)\n",
    "yticklabels = [int(width_t[idx]) for idx in yticks]\n",
    "\n",
    "ax.invert_yaxis()\n",
    "ax.set_ylabel('cm')\n",
    "ax.set_yticks(yticks)\n",
    "ax.set_yticklabels(yticklabels)\n",
    "\n",
    "x_num_ticks = 3\n",
    "xticks = np.linspace(0, len(length_t) - 1, x_num_ticks, dtype=np.int32)\n",
    "xticklabels = [int(length_t[idx]) for idx in xticks]\n",
    "\n",
    "ax.set_xlabel('cm')\n",
    "ax.set_xticks(xticks)\n",
    "ax.set_xticklabels(xticklabels, rotation='horizontal')"
   ]
  },
  {
   "cell_type": "code",
   "execution_count": 10,
   "id": "8d86a912",
   "metadata": {},
   "outputs": [],
   "source": [
    "width_a = np.arange(0, 30 + delta_val, delta_val)\n",
    "length_a = np.arange(0, 200 + delta_val, delta_val)\n",
    "\n",
    "I_a_net = torch.zeros(len(width_a), len(length_a))\n",
    "\n",
    "for x in range(len(length_a)):\n",
    "    for y in range(len(width_a)):\n",
    "        x_l = x * delta_val\n",
    "        y_n = y * delta_val\n",
    "        I_a_net[y][x] = I_a(x_l, y_n)"
   ]
  },
  {
   "cell_type": "code",
   "execution_count": 11,
   "id": "c2e33e77",
   "metadata": {},
   "outputs": [
    {
     "data": {
      "text/plain": [
       "[Text(0, 0, '0'),\n",
       " Text(100, 0, '20'),\n",
       " Text(200, 0, '40'),\n",
       " Text(300, 0, '60'),\n",
       " Text(400, 0, '80'),\n",
       " Text(500, 0, '100'),\n",
       " Text(600, 0, '120'),\n",
       " Text(700, 0, '140'),\n",
       " Text(800, 0, '160'),\n",
       " Text(900, 0, '180'),\n",
       " Text(1000, 0, '200')]"
      ]
     },
     "execution_count": 11,
     "metadata": {},
     "output_type": "execute_result"
    },
    {
     "data": {
      "image/png": "[encoded data removed]",
      "text/plain": [
       "<Figure size 640x480 with 2 Axes>"
      ]
     },
     "metadata": {},
     "output_type": "display_data"
    }
   ],
   "source": [
    "ax = sns.heatmap(I_a_net.cpu().detach().numpy(), square=True, cmap=\"jet\")\n",
    "\n",
    "y_num_ticks = 4\n",
    "yticks = [0, 50, 100, 150]\n",
    "yticklabels = [int(width_a[idx]) - 10 for idx in yticks]\n",
    "\n",
    "ax.invert_yaxis()\n",
    "ax.set_ylabel('cm')\n",
    "ax.set_yticks(yticks)\n",
    "ax.set_yticklabels(yticklabels)\n",
    "\n",
    "x_num_ticks = 11\n",
    "xticks = np.linspace(0, len(length_a) - 1, x_num_ticks, dtype=np.int32)\n",
    "xticklabels = [int(length_a[idx]) for idx in xticks]\n",
    "\n",
    "ax.set_xlabel('cm')\n",
    "ax.set_xticks(xticks)\n",
    "ax.set_xticklabels(xticklabels, rotation='horizontal')"
   ]
  },
  {
   "cell_type": "code",
   "execution_count": 12,
   "id": "0ea6b1a5",
   "metadata": {},
   "outputs": [],
   "source": [
    "def phi_s(x, y, x_i, y_j, phi_0, sigma_phi):\n",
    "    return phi_0 * np.exp( - ((x - x_i)**2 + (y - y_j)**2) / (2 * (sigma_phi**2)))\n",
    "\n",
    "def phi_t(x, y, x_i, y_j):\n",
    "    return phi_s(x, y, x_i, y_j, phi_0_t, sigma_phi_t)\n",
    "\n",
    "def phi_a(x, y, x_i, y_j):\n",
    "    return phi_s(x, y, x_i, y_j, phi_0_a, sigma_phi_a)"
   ]
  },
  {
   "cell_type": "code",
   "execution_count": 13,
   "id": "b17ed732",
   "metadata": {},
   "outputs": [],
   "source": [
    "def phi1_t(d=0.5, delta_x_l=0.2, delta_y_n=0.2):\n",
    "    area_t = torch.zeros(N_t, M_t, device=device)\n",
    "    \n",
    "    for i in range(M_t):\n",
    "        for j in range(N_t):\n",
    "            sum_phi_t = 0.0\n",
    "            \n",
    "            for x_l in np.arange(0, 20 + delta_x_l, delta_x_l):\n",
    "                for y_n in np.arange(0, 10+ delta_y_n, delta_y_n):\n",
    "                    x_i = x_t(i + 1)\n",
    "                    y_j = y_t(j + 1)\n",
    "                    \n",
    "                    sum_phi_t += I_t(x_l, y_n) * phi_t(x_l, y_n, x_i, y_j) * delta_x_l * delta_y_n\n",
    "            \n",
    "            area_t[j][i] = sum_phi_t\n",
    "                    \n",
    "    return area_t"
   ]
  },
  {
   "cell_type": "code",
   "execution_count": 14,
   "id": "f5ce02ae",
   "metadata": {},
   "outputs": [
    {
     "data": {
      "text/plain": [
       "[Text(0, 0, '0'), Text(20, 0, '20'), Text(40, 0, '40')]"
      ]
     },
     "execution_count": 14,
     "metadata": {},
     "output_type": "execute_result"
    },
    {
     "data": {
      "image/png": "[encoded data removed]",
      "text/plain": [
       "<Figure size 640x480 with 2 Axes>"
      ]
     },
     "metadata": {},
     "output_type": "display_data"
    }
   ],
   "source": [
    "ax = sns.heatmap(phi1_t().cpu().detach().numpy(), square=True, cmap=\"jet\")\n",
    "\n",
    "y_num_ticks = 3\n",
    "yticks = np.linspace(0, N_t, y_num_ticks, dtype=np.int32)\n",
    "yticklabels = [int(range(N_t + 1)[idx]) for idx in yticks]\n",
    "\n",
    "ax.invert_yaxis()\n",
    "ax.set_ylabel('cm')\n",
    "ax.set_yticks(yticks)\n",
    "ax.set_yticklabels(yticklabels)\n",
    "\n",
    "x_num_ticks = 3\n",
    "xticks = np.linspace(0, M_t, x_num_ticks, dtype=np.int32)\n",
    "xticklabels = [int(range(M_t + 1)[idx]) for idx in xticks]\n",
    "\n",
    "ax.set_xlabel('cm')\n",
    "ax.set_xticks(xticks)\n",
    "ax.set_xticklabels(xticklabels, rotation='horizontal')"
   ]
  },
  {
   "cell_type": "code",
   "execution_count": 15,
   "id": "f38acf05",
   "metadata": {},
   "outputs": [],
   "source": [
    "def phi1_a(d=10, delta_x_l=0.2, delta_y_n=0.2):\n",
    "    area_a = torch.zeros(N_a, M_a, device=device)\n",
    "    \n",
    "    for i in range(M_a):\n",
    "        for j in range(N_a):\n",
    "            sum_phi_a = 0.0\n",
    "            \n",
    "            for x_l in np.arange(0, 200 + delta_x_l, delta_x_l):\n",
    "                for y_n in np.arange(0, 30 + delta_y_n, delta_y_n):\n",
    "                    x_i = x_a(i + 1)\n",
    "                    y_j = y_a(j + 1)\n",
    "                    \n",
    "                    sum_phi_a += I_a(x_l, y_n) * phi_a(x_l, y_n, x_i, y_j) * delta_x_l * delta_y_n\n",
    "#                     sum_phi_a += I_a(x_l, y_n) * phi_a(x_l, y_n, x_i, y_j)\n",
    "            \n",
    "            area_a[j][i] = sum_phi_a\n",
    "            \n",
    "    return area_a"
   ]
  },
  {
   "cell_type": "code",
   "execution_count": 16,
   "id": "cab04f33",
   "metadata": {},
   "outputs": [
    {
     "data": {
      "text/plain": [
       "[Text(0, 0, '0'),\n",
       " Text(2, 0, '20'),\n",
       " Text(4, 0, '40'),\n",
       " Text(6, 0, '60'),\n",
       " Text(8, 0, '80'),\n",
       " Text(10, 0, '100'),\n",
       " Text(12, 0, '120'),\n",
       " Text(14, 0, '140'),\n",
       " Text(16, 0, '160'),\n",
       " Text(18, 0, '180'),\n",
       " Text(20, 0, '200')]"
      ]
     },
     "execution_count": 16,
     "metadata": {},
     "output_type": "execute_result"
    },
    {
     "data": {
      "image/png": "[encoded data removed]",
      "text/plain": [
       "<Figure size 640x480 with 2 Axes>"
      ]
     },
     "metadata": {},
     "output_type": "display_data"
    }
   ],
   "source": [
    "ax = sns.heatmap(phi1_a().cpu().detach().numpy(), square=True, cmap=\"jet\")\n",
    "\n",
    "y_num_ticks = 4\n",
    "yticks = np.linspace(0, N_a, y_num_ticks, dtype=np.int32)\n",
    "yticklabels = [int(range(N_a + 1)[idx]) * 10 - 10 for idx in yticks]\n",
    "\n",
    "ax.invert_yaxis()\n",
    "ax.set_ylabel('cm')\n",
    "ax.set_yticks(yticks)\n",
    "ax.set_yticklabels(yticklabels, rotation='horizontal')\n",
    "\n",
    "x_num_ticks = 11\n",
    "xticks = np.linspace(0, M_a, x_num_ticks, dtype=np.int32)\n",
    "xticklabels = [int(range(M_a + 1)[idx]) * 10 for idx in xticks]\n",
    "\n",
    "ax.set_xlabel('cm')\n",
    "ax.set_xticks(xticks)\n",
    "ax.set_xticklabels(xticklabels, rotation='horizontal')"
   ]
  },
  {
   "cell_type": "code",
   "execution_count": 17,
   "id": "9dd0bb12",
   "metadata": {},
   "outputs": [],
   "source": [
    "def L_s(D_x, D_y, L_ex, sigma_ex, L_in, sigma_in):\n",
    "    ve = L_ex * np.exp( - (D_x**2 + D_y**2) / (2 * (sigma_ex**2)))\n",
    "    vi = L_in * np.exp( - (D_x**2 + D_y**2) / (2 * (sigma_in**2)))\n",
    "    \n",
    "    return ve - vi\n",
    "\n",
    "def L_t(D_x, D_y):\n",
    "    # i, j, h, k start with 0\n",
    "    \n",
    "    return L_s(D_x, D_y, L_ex_t, sigma_ex_t, L_in_t, sigma_in_t)\n",
    "\n",
    "def L_a(D_x, D_y):\n",
    "    # i, j, h, k start with 0\n",
    "\n",
    "    return L_s(D_x, D_y, L_ex_a, sigma_ex_a, L_in_a, sigma_in_a)"
   ]
  },
  {
   "cell_type": "code",
   "execution_count": 18,
   "id": "d81d46e5",
   "metadata": {},
   "outputs": [],
   "source": [
    "def L2_t(i, j):\n",
    "    # i, j start with 1; h, k start with 0\n",
    "    conn_t = torch.zeros(N_t, M_t, device=device)\n",
    "    \n",
    "    for h in range(M_t):\n",
    "        for k in range(N_t):\n",
    "            if h + 1 == i and k + 1 == j:\n",
    "                conn_t[k][h] = 0\n",
    "            else:\n",
    "                D_x = x_t(h + 1) - x_t(i)\n",
    "                D_y = y_t(k + 1) - y_t(j)\n",
    "                conn_t[k][h] = L_t(D_x, D_y)\n",
    "    \n",
    "    return conn_t\n",
    "\n",
    "def L2_a(i, j):\n",
    "    # i, j start with 1; h, k start with 0\n",
    "    conn_a = torch.zeros(N_a, M_a, device=device)\n",
    "    \n",
    "    for h in range(M_a):\n",
    "        for k in range(N_a):\n",
    "            if h + 1 == i and k + 1 == j:\n",
    "                conn_a[k][h] = 0\n",
    "            else:\n",
    "                D_x = x_a(h + 1) - x_a(i)\n",
    "                D_y = y_a(k + 1) - y_a(j)\n",
    "                conn_a[k][h] = L_a(D_x, D_y)\n",
    "    \n",
    "    return conn_a"
   ]
  },
  {
   "cell_type": "code",
   "execution_count": 19,
   "id": "dc073cf9",
   "metadata": {},
   "outputs": [
    {
     "data": {
      "text/plain": [
       "48.74979496002197"
      ]
     },
     "execution_count": 19,
     "metadata": {},
     "output_type": "execute_result"
    }
   ],
   "source": [
    "s = time.time()\n",
    "\n",
    "L_net_t = {}\n",
    "\n",
    "for i in range(M_t):\n",
    "    for j in (range(N_t)):\n",
    "        L_net_t[(i + 1, j + 1)] = L2_t(i + 1, j + 1)\n",
    "\n",
    "time.time() - s"
   ]
  },
  {
   "cell_type": "code",
   "execution_count": 20,
   "id": "61e0c67c",
   "metadata": {},
   "outputs": [
    {
     "data": {
      "text/plain": [
       "[Text(0, 0, '0'), Text(20, 0, '20'), Text(40, 0, '40')]"
      ]
     },
     "execution_count": 20,
     "metadata": {},
     "output_type": "execute_result"
    },
    {
     "data": {
      "image/png": "[encoded data removed]",
      "text/plain": [
       "<Figure size 640x480 with 2 Axes>"
      ]
     },
     "metadata": {},
     "output_type": "display_data"
    }
   ],
   "source": [
    "ax = sns.heatmap(L_net_t[(20, 10)].cpu().detach().numpy(), square=True, cmap=\"jet\")\n",
    "\n",
    "y_num_ticks = 3\n",
    "yticks = np.linspace(0, N_t, y_num_ticks, dtype=np.int32)\n",
    "yticklabels = [int(range(N_t + 1)[idx]) for idx in yticks]\n",
    "\n",
    "ax.invert_yaxis()\n",
    "ax.set_ylabel('cm')\n",
    "ax.set_yticks(yticks)\n",
    "ax.set_yticklabels(yticklabels)\n",
    "\n",
    "x_num_ticks = 3\n",
    "xticks = np.linspace(0, M_t, x_num_ticks, dtype=np.int32)\n",
    "xticklabels = [int(range(M_t + 1)[idx]) for idx in xticks]\n",
    "\n",
    "ax.set_xlabel('cm')\n",
    "ax.set_xticks(xticks)\n",
    "ax.set_xticklabels(xticklabels, rotation='horizontal')"
   ]
  },
  {
   "cell_type": "code",
   "execution_count": 21,
   "id": "4ed00795",
   "metadata": {},
   "outputs": [
    {
     "data": {
      "text/plain": [
       "0.2962660789489746"
      ]
     },
     "execution_count": 21,
     "metadata": {},
     "output_type": "execute_result"
    }
   ],
   "source": [
    "s = time.time()\n",
    "\n",
    "L_net_a = {}\n",
    "\n",
    "for i in range(M_a):\n",
    "    for j in (range(N_a)):\n",
    "        L_net_a[(i + 1, j + 1)] = L2_a(i + 1, j + 1)\n",
    "\n",
    "time.time() - s"
   ]
  },
  {
   "cell_type": "code",
   "execution_count": 22,
   "id": "64b66eb3",
   "metadata": {},
   "outputs": [
    {
     "data": {
      "text/plain": [
       "[Text(0, 0, '0'),\n",
       " Text(2, 0, '20'),\n",
       " Text(4, 0, '40'),\n",
       " Text(6, 0, '60'),\n",
       " Text(8, 0, '80'),\n",
       " Text(10, 0, '100'),\n",
       " Text(12, 0, '120'),\n",
       " Text(14, 0, '140'),\n",
       " Text(16, 0, '160'),\n",
       " Text(18, 0, '180'),\n",
       " Text(20, 0, '200')]"
      ]
     },
     "execution_count": 22,
     "metadata": {},
     "output_type": "execute_result"
    },
    {
     "data": {
      "image/png": "[encoded data removed]",
      "text/plain": [
       "<Figure size 640x480 with 2 Axes>"
      ]
     },
     "metadata": {},
     "output_type": "display_data"
    }
   ],
   "source": [
    "ax = sns.heatmap(L_net_a[(10, 2)].cpu().detach().numpy(), square=True, cmap=\"jet\")\n",
    "\n",
    "y_num_ticks = 4\n",
    "yticks = np.linspace(0, N_a, y_num_ticks, dtype=np.int32)\n",
    "yticklabels = [int(range(N_a + 1)[idx]) * 10 - 10 for idx in yticks]\n",
    "\n",
    "ax.invert_yaxis()\n",
    "ax.set_ylabel('cm')\n",
    "ax.set_yticks(yticks)\n",
    "ax.set_yticklabels(yticklabels, rotation='horizontal')\n",
    "\n",
    "x_num_ticks = 11\n",
    "xticks = np.linspace(0, M_a, x_num_ticks, dtype=np.int32)\n",
    "xticklabels = [int(range(M_a + 1)[idx]) * 10 for idx in xticks]\n",
    "\n",
    "ax.set_xlabel('cm')\n",
    "ax.set_xticks(xticks)\n",
    "ax.set_xticklabels(xticklabels, rotation='horizontal')"
   ]
  },
  {
   "cell_type": "code",
   "execution_count": 23,
   "id": "00979c0e",
   "metadata": {},
   "outputs": [],
   "source": [
    "def W_t():\n",
    "    return W0_t\n",
    "\n",
    "def B_t():\n",
    "    return B0_t\n",
    "\n",
    "def Forward_t(M=40, N=20):\n",
    "    return torch.full((N, M), W0_t, device=device)\n",
    "\n",
    "def Backward_t(M=40, N=20):\n",
    "    return torch.full((N, M), B0_t, device=device)"
   ]
  },
  {
   "cell_type": "code",
   "execution_count": 24,
   "id": "ca23c51e",
   "metadata": {},
   "outputs": [
    {
     "data": {
      "text/plain": [
       "0.0"
      ]
     },
     "execution_count": 24,
     "metadata": {},
     "output_type": "execute_result"
    }
   ],
   "source": [
    "s = time.time()\n",
    "\n",
    "W_t_net = Forward_t()\n",
    "B_t_net = Backward_t()\n",
    "\n",
    "time.time() - s"
   ]
  },
  {
   "cell_type": "code",
   "execution_count": 25,
   "id": "4a3acea7",
   "metadata": {},
   "outputs": [
    {
     "data": {
      "text/plain": [
       "<AxesSubplot: >"
      ]
     },
     "execution_count": 25,
     "metadata": {},
     "output_type": "execute_result"
    },
    {
     "data": {
      "image/png": "[encoded data removed]",
      "text/plain": [
       "<Figure size 640x480 with 2 Axes>"
      ]
     },
     "metadata": {},
     "output_type": "display_data"
    }
   ],
   "source": [
    "sns.heatmap(W_t_net.cpu().detach().numpy(), vmin=0, square=True, cmap=\"jet\")"
   ]
  },
  {
   "cell_type": "code",
   "execution_count": 26,
   "id": "2b7f2b99",
   "metadata": {},
   "outputs": [
    {
     "data": {
      "text/plain": [
       "<AxesSubplot: >"
      ]
     },
     "execution_count": 26,
     "metadata": {},
     "output_type": "execute_result"
    },
    {
     "data": {
      "image/png": "[encoded data removed]",
      "text/plain": [
       "<Figure size 640x480 with 2 Axes>"
      ]
     },
     "metadata": {},
     "output_type": "display_data"
    }
   ],
   "source": [
    "sns.heatmap(B_t_net.cpu().detach().numpy(), vmin=0, square=True, cmap=\"jet\")"
   ]
  },
  {
   "cell_type": "code",
   "execution_count": 27,
   "id": "b260babf",
   "metadata": {},
   "outputs": [],
   "source": [
    "def W_a(D):\n",
    "    return alpha * W0_a * np.exp(-( D / k1 )) + (1 - alpha) * W0_a * np.exp(-( D / k2 ))\n",
    "\n",
    "def B_a(D):\n",
    "    return alpha * B0_a * np.exp(-( D / k1 )) + (1 - alpha) * B0_a * np.exp(-( D / k2 ))\n",
    "\n",
    "def D_a(i, j):\n",
    "    if x_a(i) < Lim:\n",
    "        return 0\n",
    "    else:\n",
    "        return x_a(i) - Lim\n",
    "    \n",
    "def Forward_a(M=20, N=3):\n",
    "    conn_matrix = torch.zeros(N, M, device=device)\n",
    "    \n",
    "    for i in range(M):\n",
    "        for j in range(N):\n",
    "            conn_matrix[j][i] = W_a(D_a(i, j))\n",
    "    \n",
    "    return conn_matrix\n",
    "\n",
    "def Backward_a(M=20, N=3):\n",
    "    conn_matrix = torch.zeros(N, M, device=device)\n",
    "    \n",
    "    for i in range(M):\n",
    "        for j in range(N):\n",
    "            conn_matrix[j][i] = B_a(D_a(i, j))\n",
    "    \n",
    "    return conn_matrix"
   ]
  },
  {
   "cell_type": "code",
   "execution_count": 28,
   "id": "708c656f",
   "metadata": {},
   "outputs": [
    {
     "data": {
      "text/plain": [
       "0.012009382247924805"
      ]
     },
     "execution_count": 28,
     "metadata": {},
     "output_type": "execute_result"
    }
   ],
   "source": [
    "s = time.time()\n",
    "\n",
    "W_a_net = Forward_a()\n",
    "B_a_net = Backward_a()\n",
    "\n",
    "time.time() - s"
   ]
  },
  {
   "cell_type": "code",
   "execution_count": 29,
   "id": "889eca30",
   "metadata": {},
   "outputs": [
    {
     "data": {
      "text/plain": [
       "[Text(0, 0, '0'),\n",
       " Text(2, 0, '20'),\n",
       " Text(4, 0, '40'),\n",
       " Text(6, 0, '60'),\n",
       " Text(8, 0, '80'),\n",
       " Text(10, 0, '100'),\n",
       " Text(12, 0, '120'),\n",
       " Text(14, 0, '140'),\n",
       " Text(16, 0, '160'),\n",
       " Text(18, 0, '180'),\n",
       " Text(20, 0, '200')]"
      ]
     },
     "execution_count": 29,
     "metadata": {},
     "output_type": "execute_result"
    },
    {
     "data": {
      "image/png": "[encoded data removed]",
      "text/plain": [
       "<Figure size 640x480 with 2 Axes>"
      ]
     },
     "metadata": {},
     "output_type": "display_data"
    }
   ],
   "source": [
    "ax = sns.heatmap(W_a_net.cpu().detach().numpy(), vmin=0, square=True, cmap=\"jet\")\n",
    "\n",
    "y_num_ticks = 4\n",
    "yticks = np.linspace(0, N_a, y_num_ticks, dtype=np.int32)\n",
    "yticklabels = [int(range(N_a + 1)[idx]) * 10 - 10 for idx in yticks]\n",
    "\n",
    "ax.invert_yaxis()\n",
    "ax.set_ylabel('cm')\n",
    "ax.set_yticks(yticks)\n",
    "ax.set_yticklabels(yticklabels, rotation='horizontal')\n",
    "\n",
    "x_num_ticks = 11\n",
    "xticks = np.linspace(0, M_a, x_num_ticks, dtype=np.int32)\n",
    "xticklabels = [int(range(M_a + 1)[idx]) * 10 for idx in xticks]\n",
    "\n",
    "ax.set_xlabel('cm')\n",
    "ax.set_xticks(xticks)\n",
    "ax.set_xticklabels(xticklabels, rotation='horizontal')"
   ]
  },
  {
   "cell_type": "code",
   "execution_count": 30,
   "id": "ccfee11d",
   "metadata": {},
   "outputs": [
    {
     "data": {
      "text/plain": [
       "[Text(0, 0, '0'),\n",
       " Text(2, 0, '20'),\n",
       " Text(4, 0, '40'),\n",
       " Text(6, 0, '60'),\n",
       " Text(8, 0, '80'),\n",
       " Text(10, 0, '100'),\n",
       " Text(12, 0, '120'),\n",
       " Text(14, 0, '140'),\n",
       " Text(16, 0, '160'),\n",
       " Text(18, 0, '180'),\n",
       " Text(20, 0, '200')]"
      ]
     },
     "execution_count": 30,
     "metadata": {},
     "output_type": "execute_result"
    },
    {
     "data": {
      "image/png": "[encoded data removed]",
      "text/plain": [
       "<Figure size 640x480 with 2 Axes>"
      ]
     },
     "metadata": {},
     "output_type": "display_data"
    }
   ],
   "source": [
    "ax = sns.heatmap(B_a_net.cpu().detach().numpy(), vmin=0, square=True, cmap=\"jet\")\n",
    "\n",
    "y_num_ticks = 4\n",
    "yticks = np.linspace(0, N_a, y_num_ticks, dtype=np.int32)\n",
    "yticklabels = [int(range(N_a + 1)[idx]) * 10 - 10 for idx in yticks]\n",
    "\n",
    "ax.invert_yaxis()\n",
    "ax.set_ylabel('cm')\n",
    "ax.set_yticks(yticks)\n",
    "ax.set_yticklabels(yticklabels, rotation='horizontal')\n",
    "\n",
    "x_num_ticks = 11\n",
    "xticks = np.linspace(0, M_a, x_num_ticks, dtype=np.int32)\n",
    "xticklabels = [int(range(M_a + 1)[idx]) * 10 for idx in xticks]\n",
    "\n",
    "ax.set_xlabel('cm')\n",
    "ax.set_xticks(xticks)\n",
    "ax.set_xticklabels(xticklabels, rotation='horizontal')"
   ]
  },
  {
   "cell_type": "code",
   "execution_count": 31,
   "id": "37e2c411",
   "metadata": {},
   "outputs": [],
   "source": [
    "def G_m(q_m):\n",
    "    factor = torch.exp((q_m - qc_m) * r_m)\n",
    "    return (fmin_m + fmax_m * factor) / (1 + factor)\n",
    "    \n",
    "def z_m(q_m):\n",
    "    F_val = G_m(q_m)\n",
    "    if F_val >= 0:\n",
    "        return F_val\n",
    "    else:\n",
    "        return 0.0"
   ]
  },
  {
   "cell_type": "code",
   "execution_count": 32,
   "id": "c9ccff47",
   "metadata": {},
   "outputs": [],
   "source": [
    "def q_t(area, i=None, j=None):\n",
    "    if i is not None and j is not None:\n",
    "        return area[j][i]\n",
    "    else:\n",
    "        return area\n",
    "\n",
    "def F_t(area, i=None, j=None):\n",
    "    if i is not None and j is not None:\n",
    "        factor = torch.exp((q_t(area, i, j) - qc_t) * r_t)\n",
    "        return (fmin_t + fmax_t * factor) / (1 + factor)\n",
    "    else:\n",
    "        factor = torch.exp((area - qc_t) * r_t)\n",
    "        return (fmin_t + fmax_t * factor) / (1 + factor)\n",
    "    \n",
    "def z_t(area, i=None, j=None):\n",
    "    if i is not None and j is not None:\n",
    "        t1 = F_t(area, i, j)\n",
    "        if t1 > 0:\n",
    "            return t1\n",
    "        else:\n",
    "            return 0\n",
    "    else:\n",
    "        t1 = F_t(area)\n",
    "        t2 = torch.zeros(area.shape[0], area.shape[1], device=device)\n",
    "        return torch.where(t1 >= 0, t1, t2).to(device)"
   ]
  },
  {
   "cell_type": "code",
   "execution_count": 33,
   "id": "4e7d2dd0",
   "metadata": {},
   "outputs": [],
   "source": [
    "def q_a(area, i=None, j=None):\n",
    "    if i is not None and j is not None:\n",
    "        return area[j][i]\n",
    "    else:\n",
    "        return area\n",
    "\n",
    "def F_a(area, i=None, j=None):\n",
    "    if i is not None and j is not None:\n",
    "        factor = torch.exp((q_a(area, i, j) - qc_a) * r_a)\n",
    "        return (fmin_a + fmax_a * factor) / (1 + factor)\n",
    "    else:\n",
    "        factor = torch.exp((area - qc_a) * r_a)\n",
    "        return (fmin_a + fmax_a * factor) / (1 + factor)\n",
    "    \n",
    "def z_a(area, i=None, j=None):\n",
    "    if i is not None and j is not None:\n",
    "        t1 = F_a(area, i, j)\n",
    "        if t1 > 0:\n",
    "            return t1\n",
    "        else:\n",
    "            return torch.tensor(0)\n",
    "    else:\n",
    "        t1 = F_a(area)\n",
    "        t2 = torch.zeros(area.shape[0], area.shape[1], device=device)\n",
    "        return torch.where(t1 >= 0, t1, t2).to(device)"
   ]
  },
  {
   "cell_type": "code",
   "execution_count": 34,
   "id": "3eeed0bc",
   "metadata": {},
   "outputs": [],
   "source": [
    "def u_m(area_t, area_a):\n",
    "    return torch.mul(W_t_net, z_t(area_t)).sum() + torch.mul(W_a_net, z_a(area_a)).sum()"
   ]
  },
  {
   "cell_type": "code",
   "execution_count": 35,
   "id": "b023629b",
   "metadata": {},
   "outputs": [],
   "source": [
    "def I2_t(area):\n",
    "    tmp_area = torch.zeros(N_t, M_t, device=device)\n",
    "    \n",
    "#     print('z_t', z_t(area).sum())\n",
    "    \n",
    "    for i in range(M_t):\n",
    "        for j in range(N_t):\n",
    "            tmp_net = L_net_t[(i + 1, j + 1)] * z_t(area)\n",
    "            tmp_area[j][i] = tmp_net.sum()\n",
    "            \n",
    "    return tmp_area\n",
    "\n",
    "def phi2_t(d=0.5, delta_x_l=0.2, delta_y_n=0.2):\n",
    "    area_t = torch.zeros(N_t, M_t, device=device)\n",
    "    \n",
    "    for i in range(M_t):\n",
    "        for j in range(N_t):\n",
    "            sum_phi_t = 0.0\n",
    "            \n",
    "            for x_l in np.arange(delta_x_l, 20, delta_x_l):\n",
    "                for y_n in np.arange(delta_y_n, 10, delta_y_n):\n",
    "                    x_i = x_t(i + 1)\n",
    "                    y_j = y_t(j + 1)\n",
    "                    \n",
    "#                     sum_phi_t += I_t(x_l, y_n) * phi_t(x_l, y_n, x_i, y_j) * delta_x_l * delta_y_n\n",
    "                    sum_phi_t += I_t(x_l, y_n) * phi_t(x_l, y_n, x_i, y_j)\n",
    "            \n",
    "            area_t[j][i] = sum_phi_t\n",
    "                    \n",
    "    return area_t\n",
    "\n",
    "def B2_t(q_m):\n",
    "    return B_t_net + z_m(q_m)"
   ]
  },
  {
   "cell_type": "code",
   "execution_count": 36,
   "id": "c59a8769",
   "metadata": {
    "pycharm": {
     "is_executing": true
    }
   },
   "outputs": [
    {
     "data": {
      "text/plain": [
       "22.941609859466553"
      ]
     },
     "execution_count": 36,
     "metadata": {},
     "output_type": "execute_result"
    }
   ],
   "source": [
    "s = time.time()\n",
    "\n",
    "phi_t_net = phi2_t(delta_x_l=delta_val, delta_y_n=delta_val)\n",
    "\n",
    "time.time() - s"
   ]
  },
  {
   "cell_type": "code",
   "execution_count": 37,
   "id": "36dd2e48",
   "metadata": {
    "pycharm": {
     "is_executing": true
    }
   },
   "outputs": [
    {
     "data": {
      "text/plain": [
       "<AxesSubplot: >"
      ]
     },
     "execution_count": 37,
     "metadata": {},
     "output_type": "execute_result"
    },
    {
     "data": {
      "image/png": "[encoded data removed]",
      "text/plain": [
       "<Figure size 640x480 with 2 Axes>"
      ]
     },
     "metadata": {},
     "output_type": "display_data"
    }
   ],
   "source": [
    "sns.heatmap(phi_t_net.cpu().detach().numpy(), square=True, cmap=\"jet\")"
   ]
  },
  {
   "cell_type": "code",
   "execution_count": 38,
   "id": "35ebbf3c",
   "metadata": {
    "pycharm": {
     "is_executing": true
    }
   },
   "outputs": [],
   "source": [
    "def I2_a(area):\n",
    "    tmp_area = torch.zeros(N_a, M_a, device=device)\n",
    "    \n",
    "#     print('z_a', z_a(area).sum())\n",
    "    \n",
    "    for i in range(M_a):\n",
    "        for j in range(N_a):\n",
    "            tmp_net = L_net_a[(i + 1, j + 1)] * z_a(area)\n",
    "            tmp_area[j][i] = tmp_net.sum()\n",
    "            \n",
    "    return tmp_area\n",
    "    \n",
    "#     sum_val = 0.0\n",
    "    \n",
    "#     for h in range(M_a):\n",
    "#         for k in range(N_a):\n",
    "# #             tmp_net = L_net_a[(h + 1, k + 1)] * z_a(area)\n",
    "#             tmp_net = L_net_a[(h + 1, k + 1)] * z_a(area)[k][h]\n",
    "#             sum_val += tmp_net.sum()\n",
    "            \n",
    "#     return sum_val\n",
    "\n",
    "def phi2_a(d=10, delta_x_l=0.2, delta_y_n=0.2):\n",
    "    area_a = torch.zeros(N_a, M_a, device=device)\n",
    "    \n",
    "    for i in range(M_a):\n",
    "        for j in range(N_a):\n",
    "            sum_phi_a = 0.0\n",
    "            \n",
    "            for x_l in np.arange(delta_x_l, 200, delta_x_l):\n",
    "                for y_n in np.arange(delta_y_n, 30, delta_y_n):\n",
    "                    x_i = x_a(i + 1)\n",
    "                    y_j = y_a(j + 1)\n",
    "                    \n",
    "#                     sum_phi_a += I_a(x_l, y_n) * phi_a(x_l, y_n, x_i, y_j) * delta_x_l * delta_y_n\n",
    "                    sum_phi_a += I_a(x_l, y_n) * phi_a(x_l, y_n, x_i, y_j)\n",
    "            \n",
    "            area_a[j][i] = sum_phi_a\n",
    "            \n",
    "    return area_a\n",
    "\n",
    "def B2_a(q_m):\n",
    "    return B_a_net + z_m(q_m)"
   ]
  },
  {
   "cell_type": "code",
   "execution_count": 39,
   "id": "91e64b92",
   "metadata": {
    "pycharm": {
     "is_executing": true
    }
   },
   "outputs": [
    {
     "data": {
      "text/plain": [
       "54.12363123893738"
      ]
     },
     "execution_count": 39,
     "metadata": {},
     "output_type": "execute_result"
    }
   ],
   "source": [
    "s = time.time()\n",
    "\n",
    "phi_a_net = phi2_a(delta_x_l=delta_val, delta_y_n=delta_val)\n",
    "\n",
    "time.time() - s"
   ]
  },
  {
   "cell_type": "code",
   "execution_count": 40,
   "id": "7952a7b6",
   "metadata": {
    "pycharm": {
     "is_executing": true
    }
   },
   "outputs": [
    {
     "data": {
      "text/plain": [
       "<AxesSubplot: >"
      ]
     },
     "execution_count": 40,
     "metadata": {},
     "output_type": "execute_result"
    },
    {
     "data": {
      "image/png": "[encoded data removed]",
      "text/plain": [
       "<Figure size 640x480 with 2 Axes>"
      ]
     },
     "metadata": {},
     "output_type": "display_data"
    }
   ],
   "source": [
    "sns.heatmap(phi_a_net.cpu().detach().numpy(), square=True, cmap=\"jet\")"
   ]
  },
  {
   "cell_type": "code",
   "execution_count": 41,
   "id": "3effab8b",
   "metadata": {},
   "outputs": [],
   "source": [
    "adjust_param = 1"
   ]
  },
  {
   "cell_type": "code",
   "execution_count": 42,
   "id": "7f9e282d",
   "metadata": {
    "pycharm": {
     "is_executing": true
    }
   },
   "outputs": [],
   "source": [
    "def u_t(area, q_m):\n",
    "#     return I2_t(area) + B2_t(q_m)\n",
    "    return phi_t_net * adjust_param + I2_t(area) + B2_t(q_m)\n",
    "\n",
    "def fire_t(area, q_m, d_t=0.4):\n",
    "    # * torch.exp(torch.tensor(1))\n",
    "    d_q = -q_t(area) + u_t(area, q_m)\n",
    "    area = area + 1/tau * d_t * d_q\n",
    "    return area"
   ]
  },
  {
   "cell_type": "code",
   "execution_count": 43,
   "id": "a0d02c62",
   "metadata": {
    "pycharm": {
     "is_executing": true
    }
   },
   "outputs": [],
   "source": [
    "def u_a(area, q_m):\n",
    "#     return I2_a(area) + B2_a(q_m)\n",
    "    return phi_a_net * adjust_param + I2_a(area) + B2_a(q_m)\n",
    "\n",
    "def fire_a(area, q_m, d_t=0.4):\n",
    "    # * torch.exp(torch.tensor(1))\n",
    "    d_q = -q_a(area) + u_a(area, q_m)\n",
    "    area = area + 1/tau * d_t * d_q\n",
    "    return area"
   ]
  },
  {
   "cell_type": "code",
   "execution_count": 44,
   "id": "5fd51096",
   "metadata": {
    "pycharm": {
     "is_executing": true
    },
    "scrolled": true
   },
   "outputs": [
    {
     "data": {
      "application/vnd.jupyter.widget-view+json": {
       "model_id": "ffd5d907b7694582ab9a63639b9e28da",
       "version_major": 2,
       "version_minor": 0
      },
      "text/plain": [
       "  0%|          | 0/500 [00:00<?, ?it/s]"
      ]
     },
     "metadata": {},
     "output_type": "display_data"
    },
    {
     "name": "stdout",
     "output_type": "stream",
     "text": [
      "tensor(149.7832, device='cuda:0')\n"
     ]
    }
   ],
   "source": [
    "area_t = torch.zeros(N_t, M_t, device=device)\n",
    "area_a = torch.zeros(N_a, M_a, device=device)\n",
    "\n",
    "q_m = torch.tensor(0.0)\n",
    "\n",
    "for i in tqdm(range(int(total_time/d_t))):\n",
    "    area_t = fire_t(area_t, q_m, d_t)\n",
    "    area_a = fire_a(area_a, q_m, d_t)\n",
    "    \n",
    "    d_qm = -q_m + u_m(area_t, area_a)\n",
    "    \n",
    "    q_m = q_m + 1/tau * d_t * d_qm\n",
    "\n",
    "print(q_m)"
   ]
  },
  {
   "cell_type": "code",
   "execution_count": 45,
   "id": "775aa444",
   "metadata": {},
   "outputs": [],
   "source": [
    "[19, 34, 55, 76, 91]\n",
    "[161.2876, 164.9522, 165.4480, 159.9066, 148.2969]\n",
    "\n",
    "def to_1(val):\n",
    "    return (val - 148.2969) / (165.4480 - 148.2969)"
   ]
  },
  {
   "cell_type": "code",
   "execution_count": 46,
   "id": "7b391785",
   "metadata": {},
   "outputs": [
    {
     "data": {
      "text/plain": [
       "Text(0, 0.5, 'multisensory neuron activation')"
      ]
     },
     "execution_count": 46,
     "metadata": {},
     "output_type": "execute_result"
    },
    {
     "data": {
      "image/png": "[encoded data removed]",
      "text/plain": [
       "<Figure size 640x480 with 1 Axes>"
      ]
     },
     "metadata": {},
     "output_type": "display_data"
    }
   ],
   "source": [
    "plt.figure()\n",
    "plt.plot([19, 34, 55, 76, 91], [to_1(i) for i in [161.2876, 164.9522, 165.4480, 159.9066, 148.2969]])\n",
    "\n",
    "plt.xticks([19, 34, 55, 76, 91], [19, 34, 55, 76, 91])\n",
    "plt.xlabel('sound distance')\n",
    "plt.ylabel('multisensory neuron activation')"
   ]
  },
  {
   "cell_type": "code",
   "execution_count": 47,
   "id": "622ccdea",
   "metadata": {
    "pycharm": {
     "is_executing": true
    },
    "scrolled": false
   },
   "outputs": [
    {
     "data": {
      "text/plain": [
       "[Text(0, 0, '0'), Text(20, 0, '20'), Text(40, 0, '40')]"
      ]
     },
     "execution_count": 47,
     "metadata": {},
     "output_type": "execute_result"
    },
    {
     "data": {
      "image/png": "[encoded data removed]",
      "text/plain": [
       "<Figure size 640x480 with 2 Axes>"
      ]
     },
     "metadata": {},
     "output_type": "display_data"
    }
   ],
   "source": [
    "ax = sns.heatmap(area_t.cpu().detach().numpy(), vmin=0, vmax=6.5, square=True, cmap=\"jet\")\n",
    "\n",
    "y_num_ticks = 3\n",
    "yticks = np.linspace(0, N_t, y_num_ticks, dtype=np.int32)\n",
    "yticklabels = [int(range(N_t + 1)[idx]) for idx in yticks]\n",
    "\n",
    "ax.invert_yaxis()\n",
    "ax.set_ylabel('cm')\n",
    "ax.set_yticks(yticks)\n",
    "ax.set_yticklabels(yticklabels)\n",
    "\n",
    "x_num_ticks = 3\n",
    "xticks = np.linspace(0, M_t, x_num_ticks, dtype=np.int32)\n",
    "xticklabels = [int(range(M_t + 1)[idx]) for idx in xticks]\n",
    "\n",
    "ax.set_xlabel('cm')\n",
    "ax.set_xticks(xticks)\n",
    "ax.set_xticklabels(xticklabels, rotation='horizontal')"
   ]
  },
  {
   "cell_type": "code",
   "execution_count": 48,
   "id": "bd9a8e99",
   "metadata": {
    "pycharm": {
     "is_executing": true
    }
   },
   "outputs": [
    {
     "data": {
      "text/plain": [
       "[Text(0, 0, '0'),\n",
       " Text(2, 0, '20'),\n",
       " Text(4, 0, '40'),\n",
       " Text(6, 0, '60'),\n",
       " Text(8, 0, '80'),\n",
       " Text(10, 0, '100'),\n",
       " Text(12, 0, '120'),\n",
       " Text(14, 0, '140'),\n",
       " Text(16, 0, '160'),\n",
       " Text(18, 0, '180'),\n",
       " Text(20, 0, '200')]"
      ]
     },
     "execution_count": 48,
     "metadata": {},
     "output_type": "execute_result"
    },
    {
     "data": {
      "image/png": "[encoded data removed]",
      "text/plain": [
       "<Figure size 640x480 with 2 Axes>"
      ]
     },
     "metadata": {},
     "output_type": "display_data"
    }
   ],
   "source": [
    "ax = sns.heatmap(area_a.cpu().detach().numpy(), vmin=0, vmax=6.5, square=True, cmap=\"jet\")\n",
    "\n",
    "y_num_ticks = 4\n",
    "yticks = np.linspace(0, N_a, y_num_ticks, dtype=np.int32)\n",
    "yticklabels = [int(range(N_a + 1)[idx]) * 10 - 10 for idx in yticks]\n",
    "\n",
    "ax.invert_yaxis()\n",
    "ax.set_ylabel('cm')\n",
    "ax.set_yticks(yticks)\n",
    "ax.set_yticklabels(yticklabels, rotation='horizontal')\n",
    "\n",
    "x_num_ticks = 11\n",
    "xticks = np.linspace(0, M_a, x_num_ticks, dtype=np.int32)\n",
    "xticklabels = [int(range(M_a + 1)[idx]) * 10 for idx in xticks]\n",
    "\n",
    "ax.set_xlabel('cm')\n",
    "ax.set_xticks(xticks)\n",
    "ax.set_xticklabels(xticklabels, rotation='horizontal')"
   ]
  },
  {
   "cell_type": "code",
   "execution_count": 49,
   "id": "73bb1d9c",
   "metadata": {
    "pycharm": {
     "is_executing": true
    }
   },
   "outputs": [],
   "source": [
    "area_t_90 = area_t * 0.9\n",
    "\n",
    "area_a_90 = area_a * 0.9"
   ]
  },
  {
   "cell_type": "code",
   "execution_count": 50,
   "id": "e1a8548d",
   "metadata": {
    "scrolled": true
   },
   "outputs": [
    {
     "data": {
      "application/vnd.jupyter.widget-view+json": {
       "model_id": "36eca558a9c04f16b1177e07627f625d",
       "version_major": 2,
       "version_minor": 0
      },
      "text/plain": [
       "  0%|          | 0/500 [00:00<?, ?it/s]"
      ]
     },
     "metadata": {},
     "output_type": "display_data"
    },
    {
     "name": "stdout",
     "output_type": "stream",
     "text": [
      "138\n",
      "226.8\n"
     ]
    }
   ],
   "source": [
    "area_t = torch.zeros(N_t, M_t, device=device)\n",
    "area_a = torch.zeros(N_a, M_a, device=device)\n",
    "\n",
    "q_m = torch.tensor(0.0)\n",
    "\n",
    "RT = 0\n",
    "\n",
    "for i in tqdm(range(int(total_time/d_t))):\n",
    "    area_t = fire_t(area_t, q_m, d_t)\n",
    "    area_a = fire_a(area_a, q_m, d_t)\n",
    "    \n",
    "    if torch.gt(area_t, area_t_90).all():\n",
    "        RT = ((i + 1) * d_t) * 3 + 60\n",
    "        print(i)\n",
    "        print(RT)\n",
    "        break\n",
    "    \n",
    "    d_qm = -q_m + u_m(area_t, area_a)\n",
    "    \n",
    "    q_m = q_m + 1/tau * d_t * d_qm"
   ]
  },
  {
   "cell_type": "code",
   "execution_count": 55,
   "id": "7d0a4916",
   "metadata": {},
   "outputs": [
    {
     "data": {
      "text/plain": [
       "Text(0.5, 0, 'sound distance')"
      ]
     },
     "execution_count": 55,
     "metadata": {},
     "output_type": "execute_result"
    },
    {
     "data": {
      "image/png": "[encoded data removed]",
      "text/plain": [
       "<Figure size 640x480 with 1 Axes>"
      ]
     },
     "metadata": {},
     "output_type": "display_data"
    }
   ],
   "source": [
    "RT = 196.8\n",
    "\n",
    "[10, 20, 30, 40, 50, 60, 70, 80, 90, 100, 110]\n",
    "[195.6, 193.2, 193.2, 193.2, 193.2, 193.2, 194.4, 205.2, 226.8, 228.0, 228.0]\n",
    "\n",
    "plt.figure()\n",
    "plt.plot([10, 20, 30, 40, 50, 60, 70, 80, 90, 100, 110], [195.6, 193.2, 193.2, 193.2, 193.2, 193.2, 194.4, 205.2, 226.8, 228.0, 228.0])\n",
    "\n",
    "plt.ylabel('reaction time (ms)')\n",
    "plt.xlabel('sound distance')"
   ]
  },
  {
   "cell_type": "code",
   "execution_count": 52,
   "id": "aaaa95c2",
   "metadata": {},
   "outputs": [],
   "source": [
    "all_end = time.time()"
   ]
  },
  {
   "cell_type": "code",
   "execution_count": 53,
   "id": "9f269119",
   "metadata": {},
   "outputs": [
    {
     "data": {
      "text/plain": [
       "325.4936451911926"
      ]
     },
     "execution_count": 53,
     "metadata": {},
     "output_type": "execute_result"
    }
   ],
   "source": [
    "all_end - all_start"
   ]
  }
 ],
 "metadata": {
  "kernelspec": {
   "display_name": "PyCharm (CCN-CW1)",
   "language": "python",
   "name": "pycharm-356f67a"
  },
  "language_info": {
   "codemirror_mode": {
    "name": "ipython",
    "version": 3
   },
   "file_extension": ".py",
   "mimetype": "text/x-python",
   "name": "python",
   "nbconvert_exporter": "python",
   "pygments_lexer": "ipython3",
   "version": "3.10.9"
  }
 },
 "nbformat": 4,
 "nbformat_minor": 5
}
