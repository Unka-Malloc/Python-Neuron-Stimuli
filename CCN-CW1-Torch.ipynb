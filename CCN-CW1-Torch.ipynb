{
 "cells": [
  {
   "cell_type": "code",
   "execution_count": 1,
   "id": "6c9aee4f",
   "metadata": {},
   "outputs": [
    {
     "data": {
      "text/plain": [
       "device(type='cuda', index=0)"
      ]
     },
     "execution_count": 1,
     "metadata": {},
     "output_type": "execute_result"
    }
   ],
   "source": [
    "import torch\n",
    "import numpy as np\n",
    "import time\n",
    "\n",
    "device = torch.device(\"cuda:0\" if torch.cuda.is_available() else \"cpu\")\n",
    "device"
   ]
  },
  {
   "cell_type": "code",
   "execution_count": 2,
   "id": "7295cb3b",
   "metadata": {},
   "outputs": [],
   "source": [
    "M_t = 40\n",
    "N_t = 20"
   ]
  },
  {
   "cell_type": "code",
   "execution_count": 3,
   "id": "a89fce1a",
   "metadata": {},
   "outputs": [],
   "source": [
    "M_a = 20\n",
    "N_a = 3"
   ]
  },
  {
   "cell_type": "code",
   "execution_count": 4,
   "id": "ff940efc",
   "metadata": {},
   "outputs": [],
   "source": [
    "def x_t(i):\n",
    "    return i * 0.5\n",
    "\n",
    "def y_t(j):\n",
    "    return j * 0.5\n",
    "\n",
    "def x_a(i):\n",
    "    return i * 10 - 5\n",
    "\n",
    "def y_a(j):\n",
    "    return j * 10 - 15"
   ]
  },
  {
   "cell_type": "code",
   "execution_count": 48,
   "id": "99213ffe",
   "metadata": {},
   "outputs": [],
   "source": [
    "def I_s(x, y, x_o, y_o, I_0, sigma_I):\n",
    "    return I_0 * np.exp( - ((x - x_o)**2 + (y - y_o)**2) / (2 * (sigma_I**2)))\n",
    "\n",
    "def I_t(x, y, x_o=10, y_o=5, I_0=2.5, sigma_I=0.3):\n",
    "    return I_s(x, y, x_o, y_o, I_0, sigma_I)\n",
    "\n",
    "def I_a(x, y, x_o=100, y_o=15, I_0=3.6, sigma_I=0.3):\n",
    "    return I_s(x, y, x_o, y_o, I_0, sigma_I)"
   ]
  },
  {
   "cell_type": "code",
   "execution_count": 49,
   "id": "0402fc24",
   "metadata": {},
   "outputs": [],
   "source": [
    "def phi_s(x, y, x_i, y_j, phi_0, sigma_phi):\n",
    "    return phi_0 * np.exp( - ((x - x_i)**2 + (y - y_j)**2) / (2 * (sigma_phi**2)))\n",
    "\n",
    "def phi_t(x, y, x_i, y_j, phi_0=1, sigma_phi=1):\n",
    "    return phi_s(x, y, x_i, y_j, phi_0, sigma_phi)\n",
    "\n",
    "def phi_a(x, y, x_i, y_j, phi_0=1, sigma_phi=10):\n",
    "    return phi_s(x, y, x_i, y_j, phi_0, sigma_phi)"
   ]
  },
  {
   "cell_type": "code",
   "execution_count": 5,
   "id": "e44cdb91",
   "metadata": {},
   "outputs": [],
   "source": [
    "def L_s(D_x, D_y, L_ex, sigma_ex, L_in, sigma_in):\n",
    "    ve = L_ex * np.exp( - (D_x**2 + D_y**2) / (2 * (sigma_ex**2)))\n",
    "    vi = L_in * np.exp( - (D_x**2 + D_y**2) / (2 * (sigma_in**2)))\n",
    "    \n",
    "    return ve - vi\n",
    "\n",
    "def L_t(i, j, h, k, L_ex_t=0.15, sigma_ex_t=1, L_in_t=0.05, sigma_in_t=1):\n",
    "    L_ex_t = 0.15\n",
    "    sigma_ex_t = 1\n",
    "    \n",
    "    L_in_t = 0.05\n",
    "    sigma_in_t = 1\n",
    "    \n",
    "    D_x = x_t(h + 1) - x_t(i + 1)\n",
    "    D_y = y_t(k + 1) - y_t(j + 1)\n",
    "    \n",
    "    return L_s(D_x, D_y, L_ex_t, sigma_ex_t, L_in_t, sigma_in_t)\n",
    "\n",
    "def L_a(D_x, D_y, L_ex_a=0.15, sigma_ex_a=20, L_in_a=0.05, sigma_in_a=80):\n",
    "    L_ex_a = 0.15\n",
    "    sigma_ex_a = 20\n",
    "    \n",
    "    L_in_a = 0.05\n",
    "    sigma_in_a = 80\n",
    "\n",
    "    return L_s(D_x, D_y, L_ex_a, sigma_ex_a, L_in_a, sigma_in_a)"
   ]
  },
  {
   "cell_type": "code",
   "execution_count": 38,
   "id": "0f5dbcac",
   "metadata": {},
   "outputs": [],
   "source": [
    "def L2_t(i, j):\n",
    "    conn_t = torch.zeros(N_t, M_t, device=device)\n",
    "    \n",
    "    for h in range(M_t):\n",
    "        for k in range(N_t):\n",
    "            if h + 1 == i and k + 1 == j:\n",
    "                conn_t[k][h] = 0\n",
    "            else:\n",
    "                conn_t[k][h] = L_t(i, j, h, k)\n",
    "    \n",
    "    return conn_t"
   ]
  },
  {
   "cell_type": "code",
   "execution_count": 40,
   "id": "82839278",
   "metadata": {},
   "outputs": [
    {
     "data": {
      "text/plain": [
       "torch.Size([20, 40])"
      ]
     },
     "execution_count": 40,
     "metadata": {},
     "output_type": "execute_result"
    }
   ],
   "source": [
    "L_hk_t(1, 1).shape"
   ]
  },
  {
   "cell_type": "code",
   "execution_count": 6,
   "id": "5996e9f1",
   "metadata": {},
   "outputs": [],
   "source": [
    "fmin_t = -0.12\n",
    "fmax_t = 1\n",
    "qc_t = 19.43\n",
    "r_t = 0.34"
   ]
  },
  {
   "cell_type": "code",
   "execution_count": 7,
   "id": "8a38177a",
   "metadata": {},
   "outputs": [],
   "source": [
    "fmin_a = -0.12\n",
    "fmax_a = 1\n",
    "qc_a = 19.43\n",
    "r_a = 0.34"
   ]
  },
  {
   "cell_type": "code",
   "execution_count": 8,
   "id": "b07d1558",
   "metadata": {},
   "outputs": [],
   "source": [
    "fmin_m = 0\n",
    "fmax_m = 1\n",
    "qc_m = 12\n",
    "r_m = 0.6"
   ]
  },
  {
   "cell_type": "code",
   "execution_count": 9,
   "id": "11119f21",
   "metadata": {},
   "outputs": [],
   "source": [
    "tau = 20"
   ]
  },
  {
   "cell_type": "code",
   "execution_count": 31,
   "id": "b11c9ff8",
   "metadata": {},
   "outputs": [],
   "source": [
    "area_t = torch.zeros(N_t, M_t, device=device)"
   ]
  },
  {
   "cell_type": "code",
   "execution_count": 37,
   "id": "543ad500",
   "metadata": {},
   "outputs": [
    {
     "data": {
      "text/plain": [
       "torch.Size([20, 40])"
      ]
     },
     "execution_count": 37,
     "metadata": {},
     "output_type": "execute_result"
    }
   ],
   "source": [
    "area_t.shape"
   ]
  },
  {
   "cell_type": "code",
   "execution_count": 33,
   "id": "f89e3768",
   "metadata": {},
   "outputs": [],
   "source": [
    "def G_m(q_m):\n",
    "    factor = np.exp((q_m - qc_m) * r_t)\n",
    "    return (fmin_m + fmax_m * factor) / (1 + factor)\n",
    "    \n",
    "def z_m(q_m):\n",
    "    F_val = G_m(q_m)\n",
    "    if F_val >= 0:\n",
    "        return F_val\n",
    "    else:\n",
    "        return 0.0"
   ]
  },
  {
   "cell_type": "code",
   "execution_count": 65,
   "id": "088c5adb",
   "metadata": {},
   "outputs": [],
   "source": [
    "def q_t(area, i, j):\n",
    "    return area[j][i]\n",
    "\n",
    "def F_t(area, i, j):\n",
    "    factor = np.exp((q_t(area, i, j) - qc_t) * r_t)\n",
    "    return (fmin_t + fmax_t * factor) / (1 + factor)\n",
    "    \n",
    "def z_t(area, i, j):\n",
    "    F_val = F_t(area, i, j)\n",
    "    if F_val >= 0:\n",
    "        return F_val\n",
    "    else:\n",
    "        return 0.0"
   ]
  },
  {
   "cell_type": "code",
   "execution_count": 41,
   "id": "927ff9cd",
   "metadata": {},
   "outputs": [],
   "source": [
    "# def q_t(area):\n",
    "#     return area\n",
    "\n",
    "# def F_t(area):\n",
    "#     factor = torch.exp((area - qc_t) * r_t)\n",
    "#     return (fmin_t + fmax_t * factor) / (1 + factor)\n",
    "    \n",
    "# def z_t(area):\n",
    "#     cond = F_t(area)\n",
    "#     t1 = F_t(area)\n",
    "#     t2 = torch.zeros(area.shape[0], area.shape[1], device=device)\n",
    "#     return torch.where(cond >= 0, t1, t2)"
   ]
  },
  {
   "cell_type": "code",
   "execution_count": 62,
   "id": "1f005575",
   "metadata": {},
   "outputs": [],
   "source": [
    "def I2_t(area, i, j):    \n",
    "    return L_hk_t(i, j) * z_t(area, i, j)\n",
    "\n",
    "def phi2_t(area, d=0.5, delta_x_l=0.2, delta_y_n=0.2):\n",
    "    area_t = torch.zeros(area.shape[0], area.shape[1], device=device)\n",
    "    \n",
    "    for i in range(M_t):\n",
    "        for j in range(N_t):\n",
    "            sum_phi_t = 0.0\n",
    "            \n",
    "            for x_l in np.arange(delta_x_l, 20, delta_x_l):\n",
    "                for y_n in np.arange(delta_y_n, 10, delta_y_n):\n",
    "                    x_i = d * (i + 1)\n",
    "                    y_j = d * (j + 1)\n",
    "                    \n",
    "                    sum_phi_t += I_t(x_l, y_n) * phi_t(x_l, y_n, x_i, y_j)\n",
    "            \n",
    "            area_t[j][i] = sum_phi_t\n",
    "                    \n",
    "    return area_t"
   ]
  },
  {
   "cell_type": "code",
   "execution_count": 63,
   "id": "938f82a8",
   "metadata": {},
   "outputs": [
    {
     "data": {
      "text/plain": [
       "torch.Size([20, 40])"
      ]
     },
     "execution_count": 63,
     "metadata": {},
     "output_type": "execute_result"
    }
   ],
   "source": [
    "I2_t(area_t, 1, 1).shape"
   ]
  },
  {
   "cell_type": "code",
   "execution_count": null,
   "id": "6a72b57d",
   "metadata": {},
   "outputs": [],
   "source": [
    "phi2_t(area_t).shape"
   ]
  },
  {
   "cell_type": "code",
   "execution_count": null,
   "id": "babeae2b",
   "metadata": {},
   "outputs": [],
   "source": [
    "def B2_t(q_m):\n",
    "    return B_t() + z_m(q_m)\n",
    "\n",
    "def u_t(area, i, j, q_m):\n",
    "    return phi2_t(i, j) + I2_t(area, i, j) + B2_t(q_m)\n",
    "\n",
    "def fire_t(area, q_m):\n",
    "    for i in range(M_t):\n",
    "        for j in range(N_t):\n",
    "            area[j][i] = -q_t(area, i, j) + u_t(area, i, j, q_m)"
   ]
  },
  {
   "cell_type": "code",
   "execution_count": null,
   "id": "99cbb1a1",
   "metadata": {},
   "outputs": [],
   "source": [
    "def q_a(area, i, j):\n",
    "    return area[j][i]\n",
    "\n",
    "def F_a(area, i, j):\n",
    "    factor = np.exp((q_a(area, i, j) - qc_a) * r_a)\n",
    "    return (fmin_a + fmax_a * factor) / (1 + factor)\n",
    "    \n",
    "def z_a(area, i, j):\n",
    "    F_val = F_t(area, i, j)\n",
    "    if F_val >= 0:\n",
    "        return F_val\n",
    "    else:\n",
    "        return 0.0"
   ]
  },
  {
   "cell_type": "code",
   "execution_count": null,
   "id": "89f4c92b",
   "metadata": {},
   "outputs": [],
   "source": [
    "def I2_a(area, i, j):\n",
    "    sum_val = 0.0\n",
    "    for k in range(M_a):\n",
    "        for h in range(N_a):\n",
    "            D_x = x_a(i + 1) - x_a(k + 1)\n",
    "            D_y = y_a(j + 1) - y_a(h + 1)\n",
    "            sum_val += L_a(D_x, D_y) * z_a(area, i, j)\n",
    "    return sum_val\n",
    "\n",
    "def phi2_a(i, j, d=0.5, delta_x_l=0.2, delta_y_n=0.2):\n",
    "    sum_phi_a = 0.0\n",
    "    \n",
    "    for x_l in np.arange(delta_x_l, 200, delta_x_l):\n",
    "        for y_n in np.arange(delta_y_n, 30, delta_y_n):\n",
    "            x_i = d * (i + 1) - 5\n",
    "            y_j = d * (j + 1) - 15\n",
    "                    \n",
    "            sum_phi_a += I_a(x_l, y_n) * phi_a(x_l, y_n, x_i, y_j)\n",
    "            \n",
    "    return sum_phi_t"
   ]
  },
  {
   "cell_type": "code",
   "execution_count": null,
   "id": "fffb6742",
   "metadata": {},
   "outputs": [],
   "source": [
    "def B2_a(q_m):\n",
    "    return B_a() + z_m(q_m)\n",
    "\n",
    "def u_a(area, i, j, q_m):\n",
    "    return phi2_a(i, j) + I2_a(area, i, j) + B2_a(q_m)\n",
    "\n",
    "def fire_a(area, q_m):\n",
    "    for i in range(M_t):\n",
    "        for j in range(N_t):\n",
    "            area[j][i] = -q_a(area, i, j) + u_a(area, i, j, q_m)"
   ]
  },
  {
   "cell_type": "code",
   "execution_count": null,
   "id": "67a72629",
   "metadata": {},
   "outputs": [],
   "source": [
    "def u_m(area):\n",
    "    sum_t = 0\n",
    "    for i in range(M_t):\n",
    "        for j in range(N_t):\n",
    "            sum_t += W_t() * z_t(area, i, j)\n",
    "            \n",
    "    sum_a = 0\n",
    "    for i in range(M_a):\n",
    "        for j in range(N_a):\n",
    "            sum_a += W_a(D_a(i, j)) * z_a(area, i, j)\n",
    "    \n",
    "    return sum_t + sum_a"
   ]
  },
  {
   "cell_type": "code",
   "execution_count": null,
   "id": "d3a48a66",
   "metadata": {},
   "outputs": [],
   "source": [
    "q_m = 0.0\n",
    "\n",
    "area_t = np.zeros((N_t, M_t))\n",
    "\n",
    "for i in tqdm(range(int(200 / 0.4))[:10]):\n",
    "    q_m = -q_m + u_m(area_t)\n",
    "    fire_t(area_t, q_m)"
   ]
  }
 ],
 "metadata": {
  "kernelspec": {
   "display_name": "Python 3 (ipykernel)",
   "language": "python",
   "name": "python3"
  },
  "language_info": {
   "codemirror_mode": {
    "name": "ipython",
    "version": 3
   },
   "file_extension": ".py",
   "mimetype": "text/x-python",
   "name": "python",
   "nbconvert_exporter": "python",
   "pygments_lexer": "ipython3",
   "version": "3.10.9"
  }
 },
 "nbformat": 4,
 "nbformat_minor": 5
}
